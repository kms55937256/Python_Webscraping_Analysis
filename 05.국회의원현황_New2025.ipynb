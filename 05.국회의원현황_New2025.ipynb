{
 "cells": [
  {
   "cell_type": "code",
   "execution_count": 4,
   "id": "f82bd68d-3c55-446c-8b20-3fe23b37d417",
   "metadata": {},
   "outputs": [
    {
     "name": "stdout",
     "output_type": "stream",
     "text": [
      "https://www.assembly.go.kr/portal/cnts/cntsNaas/findNaasThx01.json?pageIndex=1\n",
      "https://www.assembly.go.kr/portal/cnts/cntsNaas/findNaasThx01.json?pageIndex=2\n",
      "https://www.assembly.go.kr/portal/cnts/cntsNaas/findNaasThx01.json?pageIndex=3\n",
      "https://www.assembly.go.kr/portal/cnts/cntsNaas/findNaasThx01.json?pageIndex=4\n",
      "https://www.assembly.go.kr/portal/cnts/cntsNaas/findNaasThx01.json?pageIndex=5\n",
      "https://www.assembly.go.kr/portal/cnts/cntsNaas/findNaasThx01.json?pageIndex=6\n",
      "https://www.assembly.go.kr/portal/cnts/cntsNaas/findNaasThx01.json?pageIndex=7\n",
      "https://www.assembly.go.kr/portal/cnts/cntsNaas/findNaasThx01.json?pageIndex=8\n",
      "https://www.assembly.go.kr/portal/cnts/cntsNaas/findNaasThx01.json?pageIndex=9\n",
      "https://www.assembly.go.kr/portal/cnts/cntsNaas/findNaasThx01.json?pageIndex=10\n",
      "https://www.assembly.go.kr/portal/cnts/cntsNaas/findNaasThx01.json?pageIndex=11\n",
      "https://www.assembly.go.kr/portal/cnts/cntsNaas/findNaasThx01.json?pageIndex=12\n",
      "https://www.assembly.go.kr/portal/cnts/cntsNaas/findNaasThx01.json?pageIndex=13\n",
      "https://www.assembly.go.kr/portal/cnts/cntsNaas/findNaasThx01.json?pageIndex=14\n",
      "https://www.assembly.go.kr/portal/cnts/cntsNaas/findNaasThx01.json?pageIndex=15\n",
      "https://www.assembly.go.kr/portal/cnts/cntsNaas/findNaasThx01.json?pageIndex=16\n",
      "https://www.assembly.go.kr/portal/cnts/cntsNaas/findNaasThx01.json?pageIndex=17\n",
      "https://www.assembly.go.kr/portal/cnts/cntsNaas/findNaasThx01.json?pageIndex=18\n",
      "https://www.assembly.go.kr/portal/cnts/cntsNaas/findNaasThx01.json?pageIndex=19\n",
      "https://www.assembly.go.kr/portal/cnts/cntsNaas/findNaasThx01.json?pageIndex=20\n",
      "https://www.assembly.go.kr/portal/cnts/cntsNaas/findNaasThx01.json?pageIndex=21\n",
      "https://www.assembly.go.kr/portal/cnts/cntsNaas/findNaasThx01.json?pageIndex=22\n",
      "https://www.assembly.go.kr/portal/cnts/cntsNaas/findNaasThx01.json?pageIndex=23\n",
      "https://www.assembly.go.kr/portal/cnts/cntsNaas/findNaasThx01.json?pageIndex=24\n",
      "https://www.assembly.go.kr/portal/cnts/cntsNaas/findNaasThx01.json?pageIndex=25\n",
      "https://www.assembly.go.kr/portal/cnts/cntsNaas/findNaasThx01.json?pageIndex=26\n",
      "https://www.assembly.go.kr/portal/cnts/cntsNaas/findNaasThx01.json?pageIndex=27\n",
      "https://www.assembly.go.kr/portal/cnts/cntsNaas/findNaasThx01.json?pageIndex=28\n",
      "https://www.assembly.go.kr/portal/cnts/cntsNaas/findNaasThx01.json?pageIndex=29\n",
      "https://www.assembly.go.kr/portal/cnts/cntsNaas/findNaasThx01.json?pageIndex=30\n",
      "298\n",
      "[{'rnum': 1, 'monaCd': 'T2T8225E', 'hgNm': '강경숙', 'openNaId': 'KANGKYUNGSOOK', 'st': '22', 'unitNm': '제22대', 'polyNm': '조국혁신당', 'origNm': '비례대표', 'electGbnNm': '비례대표', 'cmitNm': '교육위원회', 'reeleGbnNm': '초선', 'sexGbnNm': '여', 'mImgUrl': '/static/portal/img/openassm/new/68f83caf0c9e4546b1694ead863f45ce.jpg', 'mThumbImgUrl': '/static/portal/img/openassm/new/thumb/68f83caf0c9e4546b1694ead863f45ce.jpg', 'mLinkUrl': '/members/22nd/KANGKYUNGSOOK'}, {'rnum': 2, 'monaCd': 'L2I9861C', 'hgNm': '강대식', 'openNaId': 'KANGDAESIK', 'st': '22', 'unitNm': '제22대', 'polyNm': '국민의힘', 'origNm': '대구 동구군위군을', 'electGbnNm': '지역구', 'cmitNm': '국방위원회', 'reeleGbnNm': '재선', 'sexGbnNm': '남', 'mImgUrl': '/static/portal/img/openassm/new/d1fe9f0902d84f0ba74f721d3298be7f.png', 'mThumbImgUrl': '/static/portal/img/openassm/new/thumb/d1fe9f0902d84f0ba74f721d3298be7f.png', 'mLinkUrl': '/members/22nd/KANGDAESIK'}, {'rnum': 3, 'monaCd': '8P37634C', 'hgNm': '강득구', 'openNaId': 'KANGDEUKGU', 'st': '22', 'unitNm': '제22대', 'polyNm': '더불어민주당', 'origNm': '경기 안양시만안구', 'electGbnNm': '지역구', 'cmitNm': '환경노동위원회, 기후위기 특별위원회', 'reeleGbnNm': '재선', 'sexGbnNm': '남', 'mImgUrl': '/static/portal/img/openassm/new/0410a0c8e24b474cac2fd79c7700ca2f.jpg', 'mThumbImgUrl': '/static/portal/img/openassm/new/thumb/0410a0c8e24b474cac2fd79c7700ca2f.jpg', 'mLinkUrl': '/members/22nd/KANGDEUKGU'}]\n"
     ]
    }
   ],
   "source": [
    "import requests\n",
    "from bs4 import BeautifulSoup\n",
    "import re\n",
    "\n",
    "headers = {\n",
    "    'user-agent':'Mozilla/5.0 (Windows NT 10.0; Win64; x64) AppleWebKit/537.36 (KHTML, like Gecko) Chrome/74.0.3729.169 Safari/537.36'\n",
    "}\n",
    "\n",
    "member_list_300 = []\n",
    "for index in range(1,31):\n",
    "    url = f'https://www.assembly.go.kr/portal/cnts/cntsNaas/findNaasThx01.json?pageIndex={index}'\n",
    "    print(url)\n",
    "    res = requests.get(url, headers=headers)\n",
    "    #print(res.status_code)\n",
    "    if res.ok:\n",
    "        #print(res.json()['resultList'])\n",
    "        member_list_10 = []\n",
    "        for member in res.json()['resultList']:\n",
    "            member_list_10.append(member) \n",
    "        \n",
    "        #print(member_list_10)\n",
    "        member_list_300.extend(member_list_10)\n",
    "    else:\n",
    "        print(res.status_code)\n",
    "print(len(member_list_300))\n",
    "print(member_list_300[:3])"
   ]
  },
  {
   "cell_type": "code",
   "execution_count": 5,
   "id": "5335e9bb",
   "metadata": {},
   "outputs": [
    {
     "name": "stdout",
     "output_type": "stream",
     "text": [
      "[{'cmitNm': '교육위원회',\n",
      "  'electGbnNm': '비례대표',\n",
      "  'hgNm': '강경숙',\n",
      "  'mImgUrl': '/static/portal/img/openassm/new/68f83caf0c9e4546b1694ead863f45ce.jpg',\n",
      "  'mLinkUrl': '/members/22nd/KANGKYUNGSOOK',\n",
      "  'mThumbImgUrl': '/static/portal/img/openassm/new/thumb/68f83caf0c9e4546b1694ead863f45ce.jpg',\n",
      "  'monaCd': 'T2T8225E',\n",
      "  'openNaId': 'KANGKYUNGSOOK',\n",
      "  'origNm': '비례대표',\n",
      "  'polyNm': '조국혁신당',\n",
      "  'reeleGbnNm': '초선',\n",
      "  'rnum': 1,\n",
      "  'sexGbnNm': '여',\n",
      "  'st': '22',\n",
      "  'unitNm': '제22대'},\n",
      " {'cmitNm': '국방위원회',\n",
      "  'electGbnNm': '지역구',\n",
      "  'hgNm': '강대식',\n",
      "  'mImgUrl': '/static/portal/img/openassm/new/d1fe9f0902d84f0ba74f721d3298be7f.png',\n",
      "  'mLinkUrl': '/members/22nd/KANGDAESIK',\n",
      "  'mThumbImgUrl': '/static/portal/img/openassm/new/thumb/d1fe9f0902d84f0ba74f721d3298be7f.png',\n",
      "  'monaCd': 'L2I9861C',\n",
      "  'openNaId': 'KANGDAESIK',\n",
      "  'origNm': '대구 동구군위군을',\n",
      "  'polyNm': '국민의힘',\n",
      "  'reeleGbnNm': '재선',\n",
      "  'rnum': 2,\n",
      "  'sexGbnNm': '남',\n",
      "  'st': '22',\n",
      "  'unitNm': '제22대'},\n",
      " {'cmitNm': '환경노동위원회, 기후위기 특별위원회',\n",
      "  'electGbnNm': '지역구',\n",
      "  'hgNm': '강득구',\n",
      "  'mImgUrl': '/static/portal/img/openassm/new/0410a0c8e24b474cac2fd79c7700ca2f.jpg',\n",
      "  'mLinkUrl': '/members/22nd/KANGDEUKGU',\n",
      "  'mThumbImgUrl': '/static/portal/img/openassm/new/thumb/0410a0c8e24b474cac2fd79c7700ca2f.jpg',\n",
      "  'monaCd': '8P37634C',\n",
      "  'openNaId': 'KANGDEUKGU',\n",
      "  'origNm': '경기 안양시만안구',\n",
      "  'polyNm': '더불어민주당',\n",
      "  'reeleGbnNm': '재선',\n",
      "  'rnum': 3,\n",
      "  'sexGbnNm': '남',\n",
      "  'st': '22',\n",
      "  'unitNm': '제22대'}]\n"
     ]
    }
   ],
   "source": [
    "from pprint import pprint\n",
    "\n",
    "pprint(member_list_300[:3])"
   ]
  },
  {
   "cell_type": "markdown",
   "id": "74cdd230-ea03-4e60-91a1-79e2aa699ebb",
   "metadata": {},
   "source": [
    "#### Json 데이터와 상세페이지 스크래핑 데이터 를 혼합해서 상세정보 저장하기"
   ]
  },
  {
   "cell_type": "code",
   "execution_count": 7,
   "id": "71ba0357-c7fb-4ffe-ad53-0396650331e0",
   "metadata": {},
   "outputs": [
    {
     "name": "stdout",
     "output_type": "stream",
     "text": [
      "===> 스크래핑 시작\n",
      "True 1 https://www.assembly.go.kr/members/22nd/KANGKYUNGSOOK\n",
      "True 2 https://www.assembly.go.kr/members/22nd/KANGDAESIK\n",
      "True 3 https://www.assembly.go.kr/members/22nd/KANGDEUKGU\n",
      "True 4 https://www.assembly.go.kr/members/22nd/KANGMYOUNGGU\n",
      "True 5 https://www.assembly.go.kr/members/22nd/KANGMINKUK\n",
      "True 6 https://www.assembly.go.kr/members/22nd/KANGSUNYOUNG\n",
      "True 7 https://www.assembly.go.kr/members/22nd/KANGSUNWOO\n",
      "True 8 https://www.assembly.go.kr/members/22nd/KangSeungKyoo\n",
      "True 9 https://www.assembly.go.kr/members/22nd/KANGJUNHYEON\n",
      "True 10 https://www.assembly.go.kr/members/22nd/KOHDONGJIN\n",
      "True 11 https://www.assembly.go.kr/members/22nd/KOMINJUNG\n",
      "True 12 https://www.assembly.go.kr/members/22nd/KWAKKYUTAEK\n",
      "True 13 https://www.assembly.go.kr/members/22nd/KWAKSANGEON\n",
      "True 14 https://www.assembly.go.kr/members/22nd/KUJAKEUN\n",
      "True 15 https://www.assembly.go.kr/members/22nd/KWEONSEONGDONG\n",
      "True 16 https://www.assembly.go.kr/members/22nd/KWONYOUNGSE\n",
      "True 17 https://www.assembly.go.kr/members/22nd/KwonYoungJin\n",
      "True 18 https://www.assembly.go.kr/members/22nd/KWONCHILSEUNG\n",
      "True 19 https://www.assembly.go.kr/members/22nd/KWONHYANGYUP\n",
      "True 20 https://www.assembly.go.kr/members/22nd/KIMGUNN\n",
      "True 21 https://www.assembly.go.kr/members/22nd/KIMKYOHEUNG\n",
      "True 22 https://www.assembly.go.kr/members/22nd/KIMKIWOONG\n",
      "True 23 https://www.assembly.go.kr/members/22nd/KIMGIPYO\n",
      "True 24 https://www.assembly.go.kr/members/22nd/KIMGIHYEON\n",
      "True 25 https://www.assembly.go.kr/members/22nd/KIMNAMGEUN\n",
      "True 26 https://www.assembly.go.kr/members/22nd/KIMNAMHEE\n",
      "True 27 https://www.assembly.go.kr/members/22nd/KIMDAISIK\n",
      "True 28 https://www.assembly.go.kr/members/22nd/KIMDOEUP\n",
      "True 29 https://www.assembly.go.kr/members/22nd/KIMDONGAH\n",
      "True 30 https://www.assembly.go.kr/members/22nd/KIMMOONSOO\n",
      "True 31 https://www.assembly.go.kr/members/22nd/KIMMIAE\n",
      "True 32 https://www.assembly.go.kr/members/22nd/KIMMINSEOK\n",
      "True 33 https://www.assembly.go.kr/members/22nd/KIMMEENGEON\n",
      "True 34 https://www.assembly.go.kr/members/22nd/KIMBYUNGKEE\n",
      "True 35 https://www.assembly.go.kr/members/22nd/KIMBYUNGJOO\n",
      "True 36 https://www.assembly.go.kr/members/22nd/KIMSANGWOOK\n",
      "True 37 https://www.assembly.go.kr/members/22nd/KIMSANGHOON\n",
      "True 38 https://www.assembly.go.kr/members/22nd/KIMSEOKKI\n",
      "True 39 https://www.assembly.go.kr/members/22nd/KIMSUNGYO\n",
      "True 40 https://www.assembly.go.kr/members/22nd/KIMSUNMIN\n",
      "True 41 https://www.assembly.go.kr/members/22nd/KIMSUNGWON\n",
      "True 42 https://www.assembly.go.kr/members/22nd/KIMSUNGWHAN\n",
      "True 43 https://www.assembly.go.kr/members/22nd/KIMSUNGHOI\n",
      "True 44 https://www.assembly.go.kr/members/22nd/KIMSOHEE\n",
      "True 45 https://www.assembly.go.kr/members/22nd/KIMSEUNGSU\n",
      "True 46 https://www.assembly.go.kr/members/22nd/KIMSEUNGWON\n",
      "True 47 https://www.assembly.go.kr/members/22nd/KIMYOUNGBAE\n",
      "True 48 https://www.assembly.go.kr/members/22nd/KIMYOUNGJIN\n",
      "True 49 https://www.assembly.go.kr/members/22nd/KIMYOUNGHO\n",
      "True 50 https://www.assembly.go.kr/members/22nd/KIMYOUNGWHAN\n",
      "True 51 https://www.assembly.go.kr/members/22nd/KIMYEAJI\n",
      "True 52 https://www.assembly.go.kr/members/22nd/KIMYONGMAN\n",
      "True 53 https://www.assembly.go.kr/members/22nd/KIMYONGMIN\n",
      "True 54 https://www.assembly.go.kr/members/22nd/YONGTAEKIM\n",
      "True 55 https://www.assembly.go.kr/members/22nd/KIMWOOYOUNG\n",
      "True 56 https://www.assembly.go.kr/members/22nd/KIMWONI\n",
      "True 57 https://www.assembly.go.kr/members/22nd/KIMWISANG\n",
      "True 58 https://www.assembly.go.kr/members/22nd/KIMYOON\n",
      "True 59 https://www.assembly.go.kr/members/22nd/KIMYUNDUK\n",
      "True 60 https://www.assembly.go.kr/members/22nd/KIMEUNHYE\n",
      "True 61 https://www.assembly.go.kr/members/22nd/KIMJANGKYOM\n",
      "True 62 https://www.assembly.go.kr/members/22nd/KIMJAESUB\n",
      "True 63 https://www.assembly.go.kr/members/22nd/JAEWONK\n",
      "True 64 https://www.assembly.go.kr/members/22nd/KIMJUNGJAE\n",
      "True 65 https://www.assembly.go.kr/members/22nd/KIMJUNGHO\n",
      "True 66 https://www.assembly.go.kr/members/22nd/KIMJONGMIN\n",
      "True 67 https://www.assembly.go.kr/members/22nd/KIMJONGYANG\n",
      "True 68 https://www.assembly.go.kr/members/22nd/KIMJUYOUNG\n",
      "True 69 https://www.assembly.go.kr/members/22nd/KIMJUNHYUK\n",
      "True 70 https://www.assembly.go.kr/members/22nd/KIMJOONHYUNG\n",
      "True 71 https://www.assembly.go.kr/members/22nd/KIMTAENYEON\n",
      "True 72 https://www.assembly.go.kr/members/22nd/KIMTAESEON\n",
      "True 73 https://www.assembly.go.kr/members/22nd/KIMTAEHO\n",
      "True 74 https://www.assembly.go.kr/members/22nd/KIMHANKYU\n",
      "True 75 https://www.assembly.go.kr/members/22nd/KIMHyun\n",
      "True 76 https://www.assembly.go.kr/members/22nd/KIMHYUNJUNG\n",
      "True 77 https://www.assembly.go.kr/members/22nd/KIMHYUNGDONG\n",
      "True 78 https://www.assembly.go.kr/members/22nd/KIMHeeJung\n",
      "True 79 https://www.assembly.go.kr/members/22nd/NAKYUNGWON\n",
      "True 80 https://www.assembly.go.kr/members/22nd/NAMINSOON\n",
      "True 81 https://www.assembly.go.kr/members/22nd/NOHJONGMYUN\n",
      "True 82 https://www.assembly.go.kr/members/22nd/MAENGSUNGKYU\n",
      "True 83 https://www.assembly.go.kr/members/22nd/MOGYEONGJONG\n",
      "True 84 https://www.assembly.go.kr/members/22nd/MUNGEUMJU\n",
      "True 85 https://www.assembly.go.kr/members/22nd/MOONDAELIM\n",
      "True 86 https://www.assembly.go.kr/members/22nd/MOONJEONGBOG\n",
      "True 87 https://www.assembly.go.kr/members/22nd/MOONJINSEOG\n",
      "True 88 https://www.assembly.go.kr/members/22nd/MINBYOUNGDUG\n",
      "True 89 https://www.assembly.go.kr/members/22nd/MINHYUNGBAE\n",
      "True 90 https://www.assembly.go.kr/members/22nd/MINHONGCHUL\n",
      "True 91 https://www.assembly.go.kr/members/22nd/PARKKYOONTAEK\n",
      "True 92 https://www.assembly.go.kr/members/22nd/PARKDAECHUL\n",
      "True 93 https://www.assembly.go.kr/members/22nd/PARKDUKHYUM\n",
      "True 94 https://www.assembly.go.kr/members/22nd/PARKMINKYU\n",
      "True 95 https://www.assembly.go.kr/members/22nd/PARKBEOMKYE\n",
      "True 96 https://www.assembly.go.kr/members/22nd/PARKSANGWOONG\n",
      "True 97 https://www.assembly.go.kr/members/22nd/PARKSANGHYUK\n",
      "True 98 https://www.assembly.go.kr/members/22nd/PARKSUNWON\n",
      "True 99 https://www.assembly.go.kr/members/22nd/PARKSEONGMIN\n",
      "True 100 https://www.assembly.go.kr/members/22nd/PARKSUNGJOON\n",
      "True 101 https://www.assembly.go.kr/members/22nd/PARKSUNGHOON\n",
      "True 102 https://www.assembly.go.kr/members/22nd/PARKSOOMIN\n",
      "True 103 https://www.assembly.go.kr/members/22nd/PARKSOOYOUNG\n",
      "True 104 https://www.assembly.go.kr/members/22nd/PARKSooHyun\n",
      "True 105 https://www.assembly.go.kr/members/22nd/PARKYONGKAB\n",
      "True 106 https://www.assembly.go.kr/members/22nd/PARKEUNJUNG\n",
      "True 107 https://www.assembly.go.kr/members/22nd/PARKJEUNG\n",
      "True 108 https://www.assembly.go.kr/members/22nd/PARKJEONGHA\n",
      "True 109 https://www.assembly.go.kr/members/22nd/PARKJEONGHYEON\n",
      "True 110 https://www.assembly.go.kr/members/22nd/PARKJEONGHUN\n",
      "True 111 https://www.assembly.go.kr/members/22nd/PARKJUMIN\n",
      "True 112 https://www.assembly.go.kr/members/22nd/PARKJUNTAE\n",
      "True 113 https://www.assembly.go.kr/members/22nd/PARKJIEWON\n",
      "True 114 https://www.assembly.go.kr/members/22nd/PARKJEEHYE\n",
      "True 115 https://www.assembly.go.kr/members/22nd/PARKCHANDAE\n",
      "True 116 https://www.assembly.go.kr/members/22nd/PARKCHOONGKWON\n",
      "True 117 https://www.assembly.go.kr/members/22nd/PARKHAECHEOL\n",
      "True 118 https://www.assembly.go.kr/members/22nd/PARKHYEUNGSOO\n",
      "True 119 https://www.assembly.go.kr/members/22nd/PARKHONGKEUN\n",
      "True 120 https://www.assembly.go.kr/members/22nd/PARKHONGBAE\n",
      "True 121 https://www.assembly.go.kr/members/22nd/PARKHEESEONG\n",
      "True 122 https://www.assembly.go.kr/members/22nd/BAEJUNEYOUNG\n",
      "True 123 https://www.assembly.go.kr/members/22nd/BAEHYUNJIN\n",
      "True 124 https://www.assembly.go.kr/members/22nd/BAEKSUNHEE\n",
      "True 125 https://www.assembly.go.kr/members/22nd/BAKSEUNGA\n",
      "True 126 https://www.assembly.go.kr/members/22nd/BAEKJONGHEAN\n",
      "True 127 https://www.assembly.go.kr/members/22nd/BACKHYERYUN\n",
      "True 128 https://www.assembly.go.kr/members/22nd/BOKKIWANG\n",
      "True 129 https://www.assembly.go.kr/members/22nd/BOOSEUNGCHAN\n",
      "True 130 https://www.assembly.go.kr/members/22nd/SUHMYUNGOK\n",
      "True 131 https://www.assembly.go.kr/members/22nd/SEOMIHWA\n",
      "True 132 https://www.assembly.go.kr/members/22nd/SUHBUMSOO\n",
      "True 133 https://www.assembly.go.kr/members/22nd/SEOSAMSEOK\n",
      "True 134 https://www.assembly.go.kr/members/22nd/SEOYOUNGKYO\n",
      "True 135 https://www.assembly.go.kr/members/22nd/SEOYOUNGSEOK\n",
      "True 136 https://www.assembly.go.kr/members/22nd/SEOWANGJIN\n",
      "True 137 https://www.assembly.go.kr/members/22nd/SEOILJUN\n",
      "True 138 https://www.assembly.go.kr/members/22nd/SEOJIYOUNG\n",
      "True 139 https://www.assembly.go.kr/members/22nd/SUHCHEONHO\n",
      "True 140 https://www.assembly.go.kr/members/22nd/SUNGILJONG\n",
      "True 141 https://www.assembly.go.kr/members/22nd/SOBYUNGHOON\n",
      "True 142 https://www.assembly.go.kr/members/22nd/SONMYOUNGSOO\n",
      "True 143 https://www.assembly.go.kr/members/22nd/SONSOL\n",
      "True 144 https://www.assembly.go.kr/members/22nd/SONGKIHUN\n",
      "True 145 https://www.assembly.go.kr/members/22nd/SONGSEOGJUN\n",
      "True 146 https://www.assembly.go.kr/members/22nd/SONGEONSEOG\n",
      "True 147 https://www.assembly.go.kr/members/22nd/SONGOKJOO\n",
      "True 148 https://www.assembly.go.kr/members/22nd/SONGJAEBONG\n",
      "True 149 https://www.assembly.go.kr/members/22nd/SHINDONGUK\n",
      "True 150 https://www.assembly.go.kr/members/22nd/SHINSungBum\n",
      "True 151 https://www.assembly.go.kr/members/22nd/SHINYEONGDAE\n",
      "True 152 https://www.assembly.go.kr/members/22nd/SHINCHANGSIK\n",
      "True 153 https://www.assembly.go.kr/members/22nd/SHINJEONGHOON\n",
      "True 154 https://www.assembly.go.kr/members/22nd/AHNGYUBACK\n",
      "True 155 https://www.assembly.go.kr/members/22nd/AHNDOGEOL\n",
      "True 156 https://www.assembly.go.kr/members/22nd/AHNSANGHOON\n",
      "True 157 https://www.assembly.go.kr/members/22nd/AHNCHEOLSOO\n",
      "True 158 https://www.assembly.go.kr/members/22nd/ANTAEJUN\n",
      "True 159 https://www.assembly.go.kr/members/22nd/ANHOYOUNG\n",
      "True 160 https://www.assembly.go.kr/members/22nd/YANGMOONSEOK\n",
      "True 161 https://www.assembly.go.kr/members/22nd/YANGBUNAM\n",
      "True 162 https://www.assembly.go.kr/members/22nd/EOHKIYKU\n",
      "True 163 https://www.assembly.go.kr/members/22nd/EOMTAEYOUNG\n",
      "True 164 https://www.assembly.go.kr/members/22nd/YEOMTAEYOUNG\n",
      "True 165 https://www.assembly.go.kr/members/22nd/OHGIHYOUNG\n",
      "True 166 https://www.assembly.go.kr/members/22nd/OHSAEHEE\n",
      "True 167 https://www.assembly.go.kr/members/22nd/YONGHYEIN\n",
      "True 168 https://www.assembly.go.kr/members/22nd/WOOWONSHIK\n",
      "True 169 https://www.assembly.go.kr/members/22nd/WOOJAEJUN\n",
      "True 170 https://www.assembly.go.kr/members/22nd/WISEONGGON\n",
      "True 171 https://www.assembly.go.kr/members/22nd/YOODONGSOO\n",
      "True 172 https://www.assembly.go.kr/members/22nd/YOOSANGBUM\n",
      "True 173 https://www.assembly.go.kr/members/22nd/YOOYEONGHA\n",
      "True 174 https://www.assembly.go.kr/members/22nd/YUYONGWEON\n",
      "True 175 https://www.assembly.go.kr/members/22nd/YOUNKUNYOUNG\n",
      "True 176 https://www.assembly.go.kr/members/22nd/YOONSANGHYUN\n",
      "True 177 https://www.assembly.go.kr/members/22nd/YOONYOUNGSEOK\n",
      "True 178 https://www.assembly.go.kr/members/22nd/YUNJAEOK\n",
      "True 179 https://www.assembly.go.kr/members/22nd/YOONJONGKUN\n",
      "True 180 https://www.assembly.go.kr/members/22nd/YOONJONGO\n",
      "True 181 https://www.assembly.go.kr/members/22nd/YOONJOONBYEONG\n",
      "True 182 https://www.assembly.go.kr/members/22nd/YOONHANHONG\n",
      "True 183 https://www.assembly.go.kr/members/22nd/YUNHOJUNG\n",
      "True 184 https://www.assembly.go.kr/members/22nd/YOONHUDUK\n",
      "True 185 https://www.assembly.go.kr/members/22nd/LEEKANGILL\n",
      "True 186 https://www.assembly.go.kr/members/22nd/LEEKAIHO\n",
      "True 187 https://www.assembly.go.kr/members/22nd/LEEGEONTAE\n",
      "True 188 https://www.assembly.go.kr/members/22nd/LEEGOANGHEE\n",
      "True 189 https://www.assembly.go.kr/members/22nd/LEEKIHEON\n",
      "True 190 https://www.assembly.go.kr/members/22nd/LEEDALHEE\n",
      "True 191 https://www.assembly.go.kr/members/22nd/LEEMANHEE\n",
      "True 192 https://www.assembly.go.kr/members/22nd/YIBYEONGJIN\n",
      "True 193 https://www.assembly.go.kr/members/22nd/LEESANGSIK\n",
      "True 194 https://www.assembly.go.kr/members/22nd/LEESANGHWI\n",
      "True 195 https://www.assembly.go.kr/members/22nd/LEESEONGKWEUN\n",
      "True 196 https://www.assembly.go.kr/members/22nd/LEESUNGYOON\n",
      "True 197 https://www.assembly.go.kr/members/22nd/LEESOYOUNG\n",
      "True 198 https://www.assembly.go.kr/members/22nd/LEESOOJIN\n",
      "True 199 https://www.assembly.go.kr/members/22nd/LEEYANGSOO\n",
      "True 200 https://www.assembly.go.kr/members/22nd/LEEUNJU\n",
      "True 201 https://www.assembly.go.kr/members/22nd/LEEYEONHEE\n",
      "True 202 https://www.assembly.go.kr/members/22nd/LEEYONGSUN\n",
      "True 203 https://www.assembly.go.kr/members/22nd/YONGWOOLEE\n",
      "True 204 https://www.assembly.go.kr/members/22nd/LEEWONTAEG\n",
      "True 205 https://www.assembly.go.kr/members/22nd/LEEINSEON\n",
      "True 206 https://www.assembly.go.kr/members/22nd/LEEINYOUNG\n",
      "True 207 https://www.assembly.go.kr/members/22nd/LEEJAEGANG\n",
      "True 208 https://www.assembly.go.kr/members/22nd/LEEJAEKWAN\n",
      "True 209 https://www.assembly.go.kr/members/22nd/LEEJAEJUNG\n",
      "True 210 https://www.assembly.go.kr/members/22nd/LEEJUNGMUN\n",
      "True 211 https://www.assembly.go.kr/members/22nd/LEEJEONGHEON\n",
      "True 212 https://www.assembly.go.kr/members/22nd/LEEJONGBAE\n",
      "True 213 https://www.assembly.go.kr/members/22nd/LEEJONHWOOK\n",
      "True 214 https://www.assembly.go.kr/members/22nd/JUYOUNGLEE\n",
      "True 215 https://www.assembly.go.kr/members/22nd/LeeJuhee\n",
      "True 216 https://www.assembly.go.kr/members/22nd/LEEJUNSEOK\n",
      "True 217 https://www.assembly.go.kr/members/22nd/LEECHULGYU\n",
      "True 218 https://www.assembly.go.kr/members/22nd/LEECHOONSUAK\n",
      "True 219 https://www.assembly.go.kr/members/22nd/LEEHACKYOUNG\n",
      "True 220 https://www.assembly.go.kr/members/22nd/LEEHAIMIN\n",
      "True 221 https://www.assembly.go.kr/members/22nd/LEEHAESIK\n",
      "True 222 https://www.assembly.go.kr/members/22nd/LEEHUNSEUNG\n",
      "True 223 https://www.assembly.go.kr/members/22nd/LEEHOONKI\n",
      "True 224 https://www.assembly.go.kr/members/22nd/IHNYOHAN\n",
      "True 225 https://www.assembly.go.kr/members/22nd/LIMMIAE\n",
      "True 226 https://www.assembly.go.kr/members/22nd/LIMOKYEONG\n",
      "True 227 https://www.assembly.go.kr/members/22nd/LIMLEEJA\n",
      "True 228 https://www.assembly.go.kr/members/22nd/LIMJONGDEUK\n",
      "True 229 https://www.assembly.go.kr/members/22nd/LIMHOSEON\n",
      "True 230 https://www.assembly.go.kr/members/22nd/JANGKYUNGTAE\n",
      "True 231 https://www.assembly.go.kr/members/22nd/JANGDONGHYEOK\n",
      "True 232 https://www.assembly.go.kr/members/22nd/CHANGJONGTAE\n",
      "True 233 https://www.assembly.go.kr/members/22nd/CHULMINJANG\n",
      "True 234 https://www.assembly.go.kr/members/22nd/JEONYONGGI\n",
      "True 235 https://www.assembly.go.kr/members/22nd/CHUNJAESOO\n",
      "True 236 https://www.assembly.go.kr/members/22nd/CHUNJONGDUK\n",
      "True 237 https://www.assembly.go.kr/members/22nd/JEONJINSOOK\n",
      "True 238 https://www.assembly.go.kr/members/22nd/JEONHYUNHEUI\n",
      "True 239 https://www.assembly.go.kr/members/22nd/JEONGDONGMAN\n",
      "True 240 https://www.assembly.go.kr/members/22nd/CHUNGDONGYOUNG\n",
      "True 241 https://www.assembly.go.kr/members/22nd/JUNGSUNGKOOK\n",
      "True 242 https://www.assembly.go.kr/members/22nd/JUNGSUNGHO\n",
      "True 243 https://www.assembly.go.kr/members/22nd/JUNGYEONWOOK\n",
      "True 244 https://www.assembly.go.kr/members/22nd/JUNGEULHO\n",
      "True 245 https://www.assembly.go.kr/members/22nd/CHUNGILYOUNG\n",
      "True 246 https://www.assembly.go.kr/members/22nd/JEONGJEOMSIG\n",
      "True 247 https://www.assembly.go.kr/members/22nd/JEONGJUNHO\n",
      "True 248 https://www.assembly.go.kr/members/22nd/CHUNGCHINOOK\n",
      "True 249 https://www.assembly.go.kr/members/22nd/JUNGCHUNGRAE\n",
      "True 250 https://www.assembly.go.kr/members/22nd/CHUNGCHOONSAENG\n",
      "True 251 https://www.assembly.go.kr/members/22nd/JUNGTAEHO\n",
      "True 252 https://www.assembly.go.kr/members/22nd/JUNGHYEKYUNG\n",
      "True 253 https://www.assembly.go.kr/members/22nd/JUNGHEEYONG\n",
      "True 254 https://www.assembly.go.kr/members/22nd/CHOKYOUNGTAE\n",
      "True 255 https://www.assembly.go.kr/members/22nd/CHOGYEWON\n",
      "True 256 https://www.assembly.go.kr/members/22nd/CHOBAESOOK\n",
      "True 257 https://www.assembly.go.kr/members/22nd/JOSEOUNGLAE\n",
      "True 258 https://www.assembly.go.kr/members/22nd/CHOSEUNGHWAN\n",
      "True 259 https://www.assembly.go.kr/members/22nd/CHOEUNHEE\n",
      "True 260 https://www.assembly.go.kr/members/22nd/CHOINCHEUL\n",
      "True 261 https://www.assembly.go.kr/members/22nd/CHOJEONGSIK\n",
      "True 262 https://www.assembly.go.kr/members/22nd/CHOJUNGHUN\n",
      "True 263 https://www.assembly.go.kr/members/22nd/CHOJIYEON\n",
      "True 264 https://www.assembly.go.kr/members/22nd/JOOJINWOO\n",
      "True 265 https://www.assembly.go.kr/members/22nd/JUCHEOLHYEON\n",
      "True 266 https://www.assembly.go.kr/members/22nd/JOOHOYOUNG\n",
      "True 267 https://www.assembly.go.kr/members/22nd/JINSUNMEE\n",
      "True 268 https://www.assembly.go.kr/members/22nd/JINSUNGJOON\n",
      "True 269 https://www.assembly.go.kr/members/22nd/JINJONGOH\n",
      "True 270 https://www.assembly.go.kr/members/22nd/CHAGYUGEUN\n",
      "True 271 https://www.assembly.go.kr/members/22nd/CHAJIHO\n",
      "True 272 https://www.assembly.go.kr/members/22nd/CHAIHYUNIL\n",
      "True 273 https://www.assembly.go.kr/members/22nd/CHEONJUNHO\n",
      "True 274 https://www.assembly.go.kr/members/22nd/CHUNHARAM\n",
      "True 275 https://www.assembly.go.kr/members/22nd/CHOIKISANG\n",
      "True 276 https://www.assembly.go.kr/members/22nd/CHOIMinhee\n",
      "True 277 https://www.assembly.go.kr/members/22nd/CHOIBOYUN\n",
      "True 278 https://www.assembly.go.kr/members/22nd/CHOISOOJIN\n",
      "True 279 https://www.assembly.go.kr/members/22nd/CHOIEUNSEOK\n",
      "True 280 https://www.assembly.go.kr/members/22nd/ChoiHyuckJin\n",
      "True 281 https://www.assembly.go.kr/members/22nd/CHOIHYUNGDU\n",
      "True 282 https://www.assembly.go.kr/members/22nd/CHOOKYUNGHO\n",
      "True 283 https://www.assembly.go.kr/members/22nd/CHOOMIAE\n",
      "True 284 https://www.assembly.go.kr/members/22nd/HANKIHO\n",
      "True 285 https://www.assembly.go.kr/members/22nd/HANMINSOO\n",
      "True 286 https://www.assembly.go.kr/members/22nd/HANBYUNGDO\n",
      "True 287 https://www.assembly.go.kr/members/22nd/HANJEOUNGAE\n",
      "True 288 https://www.assembly.go.kr/members/22nd/HANJUNHO\n",
      "True 289 https://www.assembly.go.kr/members/22nd/HANZEEA\n",
      "True 290 https://www.assembly.go.kr/members/22nd/HANCHANGMIN\n",
      "True 291 https://www.assembly.go.kr/members/22nd/HUHSUNGMOO\n",
      "True 292 https://www.assembly.go.kr/members/22nd/HUHYOUNG\n",
      "True 293 https://www.assembly.go.kr/members/22nd/HEOJONGSIK\n",
      "True 294 https://www.assembly.go.kr/members/22nd/HONGKEEWON\n",
      "True 295 https://www.assembly.go.kr/members/22nd/HWANGMYEONGSEON\n",
      "True 296 https://www.assembly.go.kr/members/22nd/HWANGUNHA\n",
      "True 297 https://www.assembly.go.kr/members/22nd/HWANGJUNGA\n",
      "True 298 https://www.assembly.go.kr/members/22nd/HWANGHEE\n",
      "298\n",
      "[{'사무실 전화': '02-784-8551', '사무실 호실': '의원회관838호', '개별 홈페이지': 'http://blog.naver.com/hwanghee67', '이메일': 'hwanghee6728@gmail.com', '보좌관': '나성채,조주연', '선임비서관': '김병기,정대중', '비서관': '오상혁,나유경,김용대,문경림,박이룬', '의원실 안내': '', '이름': '황희', '정당': '더불어민주당', '성별': '남', '선거구': '서울 양천구갑', '지역비례': '지역구', '소속위원회': '국방위원회', '당선횟수': '3선', '이미지': 'https://www.assembly.go.kr/static/portal/img/openassm/new/thumb/99e78cb9dfd447fb8ef4bb0dfb51b79c.jpg'}]\n",
      "===> 스크래핑 끝\n"
     ]
    }
   ],
   "source": [
    "import requests\n",
    "from bs4 import BeautifulSoup\n",
    "import re\n",
    "from urllib.parse import urljoin\n",
    "\n",
    "print('===> 스크래핑 시작')\n",
    "#297명의 정보를 저장하는 List\n",
    "member_detail_list = []\n",
    "\n",
    "headers = {\n",
    "    'user-agent':'Mozilla/5.0 (Windows NT 10.0; Win64; x64) AppleWebKit/537.36 (KHTML, like Gecko) Chrome/74.0.3729.169 Safari/537.36'\n",
    "}\n",
    "\n",
    "for idx,member in enumerate(member_list_300,1):\n",
    "    mem_sub_link = member['mLinkUrl']\n",
    "    detail_url = f'https://www.assembly.go.kr{mem_sub_link}'\n",
    "    res = requests.get(detail_url, headers=headers)\n",
    "    print(res.ok, idx, detail_url)\n",
    "    \n",
    "    if res.ok:\n",
    "        soup = BeautifulSoup(res.text, 'html.parser')\n",
    "        \n",
    "        #1명의 정보를 저장하는 dict 선언\n",
    "        member_detail_dict = {}\n",
    "        \n",
    "        li_tags = soup.select('ul.list li:nth-of-type(n+4)')\n",
    "        #print(li_tags)\n",
    "        # for li in li_tags:\n",
    "        #     print(type(li.find('dt')))\n",
    "        #     print(li.find('dt').text)\n",
    "        \n",
    "        dt_list = [li_tag.find('dt').text for li_tag in li_tags]\n",
    "        #print(dt_list)\n",
    "\n",
    "        dd_list = []        \n",
    "        for li_tag in li_tags:\n",
    "            dd_tag = li_tag.find('dd')\n",
    "            pattern = re.compile(f'[\\n\\r\\t]')\n",
    "            dd_text = pattern.sub('',dd_tag.text.strip()).replace(\" \",\"\")\n",
    "            dd_list.append(dd_text)\n",
    "        #print(dd_list)\n",
    "        \n",
    "        member_detail_dict = dict(zip(dt_list, dd_list))\n",
    "\n",
    "        member_detail_dict['이름'] = member['hgNm']        \n",
    "        member_detail_dict['정당'] = member['polyNm']\n",
    "        member_detail_dict['성별'] = member['sexGbnNm']\n",
    "        member_detail_dict['선거구'] = member['origNm']\n",
    "        member_detail_dict['지역비례'] = member['electGbnNm']\n",
    "\n",
    "        sosok = member['cmitNm']\n",
    "        if sosok is not None:\n",
    "            idx = sosok.find(',')\n",
    "            if idx > -1:            \n",
    "                member_detail_dict['소속위원회'] = sosok[:idx]\n",
    "            else:\n",
    "                member_detail_dict['소속위원회'] = sosok\n",
    "        else:        \n",
    "            member_detail_dict['소속위원회'] = ''    \n",
    "\n",
    "        # print(member_detail_dict['소속위원회'])                        \n",
    "        \n",
    "        member_detail_dict['당선횟수'] = member['reeleGbnNm']\n",
    "        \n",
    "        img_sub_url = member['mThumbImgUrl']\n",
    "        img_url = urljoin(detail_url,img_sub_url)\n",
    "        #print(img_url)\n",
    "        member_detail_dict['이미지'] = img_url\n",
    "        \n",
    "        #pprint(member_detail_dict)        \n",
    "                        \n",
    "        #1명의 정보가 저장된 dict를 list에 추가하기\n",
    "        member_detail_list.append(member_detail_dict)\n",
    "    else:\n",
    "        print(res.status_code)\n",
    "        \n",
    "print(len(member_detail_list))\n",
    "print(member_detail_list[297:])\n",
    "print('===> 스크래핑 끝')"
   ]
  },
  {
   "cell_type": "markdown",
   "id": "b5201001",
   "metadata": {},
   "source": [
    "### 웹스크래핑한 데이터를 Pandas DataFrame 객체로 저장하여 분석 및 시각화"
   ]
  },
  {
   "cell_type": "code",
   "execution_count": null,
   "id": "76aaf22a",
   "metadata": {},
   "outputs": [],
   "source": [
    "import pandas as pd\n",
    "\n",
    "member_df = pd.DataFrame(columns=['이름','정당','선거구','당선횟수','지역비례','성별','소속위원회','이미지','사무실 전화','사무실 호실',\\\n",
    "                                  '개별 홈페이지','이메일','보좌관','선임비서관','비서관','의원실 안내'])\n",
    "\n",
    "for member_detail in member_detail_list:\n",
    "    # Row 하나 생성\n",
    "    df_new_row = pd.DataFrame.from_records([member_detail])\n",
    "    member_df = pd.concat([member_df, df_new_row])\n",
    "    # dict <=> Series\n",
    "    #series_obj = pd.Series(member_detail)\n",
    "    # Series 객체를 append \n",
    "    #member_df = member_df.append(series_obj, ignore_index=True)\n",
    "\n",
    "print(member_df.columns)    \n",
    "print(member_df.shape)\n",
    "member_df.head(2)"
   ]
  },
  {
   "cell_type": "code",
   "execution_count": 10,
   "id": "aa983187",
   "metadata": {},
   "outputs": [
    {
     "name": "stdout",
     "output_type": "stream",
     "text": [
      "RangeIndex(start=1, stop=299, step=1)\n"
     ]
    }
   ],
   "source": [
    "# index가 1부터 시작하도록 재설정\n",
    "member_df.reset_index(drop=True,inplace=True)\n",
    "member_df.index = member_df.index + 1\n",
    "print(member_df.index)"
   ]
  },
  {
   "cell_type": "code",
   "execution_count": null,
   "id": "58c5512a",
   "metadata": {},
   "outputs": [],
   "source": [
    "member_df.head()"
   ]
  },
  {
   "cell_type": "code",
   "execution_count": 13,
   "id": "bfccac73",
   "metadata": {},
   "outputs": [
    {
     "data": {
      "text/plain": [
       "array(['조국혁신당', '국민의힘', '더불어민주당', '무소속', '진보당', '기본소득당', '개혁신당', '사회민주당'],\n",
       "      dtype=object)"
      ]
     },
     "execution_count": 13,
     "metadata": {},
     "output_type": "execute_result"
    }
   ],
   "source": [
    "member_df['정당'].unique()"
   ]
  },
  {
   "cell_type": "code",
   "execution_count": 14,
   "id": "dd25a3ca",
   "metadata": {},
   "outputs": [
    {
     "data": {
      "text/plain": [
       "정당\n",
       "더불어민주당    167\n",
       "국민의힘      107\n",
       "조국혁신당      12\n",
       "진보당         4\n",
       "무소속         3\n",
       "개혁신당        3\n",
       "기본소득당       1\n",
       "사회민주당       1\n",
       "Name: count, dtype: int64"
      ]
     },
     "execution_count": 14,
     "metadata": {},
     "output_type": "execute_result"
    }
   ],
   "source": [
    "member_df['정당'].value_counts()"
   ]
  },
  {
   "cell_type": "code",
   "execution_count": 15,
   "id": "4d1f2ca2",
   "metadata": {},
   "outputs": [
    {
     "data": {
      "text/plain": [
       "당선횟수\n",
       "초선    131\n",
       "재선     79\n",
       "3선     46\n",
       "4선     24\n",
       "5선     14\n",
       "6선      4\n",
       "Name: count, dtype: int64"
      ]
     },
     "execution_count": 15,
     "metadata": {},
     "output_type": "execute_result"
    }
   ],
   "source": [
    "member_df['당선횟수'].value_counts()"
   ]
  },
  {
   "cell_type": "code",
   "execution_count": null,
   "id": "fc8dec5a",
   "metadata": {},
   "outputs": [],
   "source": [
    "member_df.loc[member_df['당선횟수']== '6선']"
   ]
  },
  {
   "cell_type": "code",
   "execution_count": 18,
   "id": "66ec9ab7",
   "metadata": {},
   "outputs": [
    {
     "data": {
      "text/plain": [
       "성별\n",
       "남    0.791946\n",
       "여    0.208054\n",
       "Name: proportion, dtype: float64"
      ]
     },
     "execution_count": 18,
     "metadata": {},
     "output_type": "execute_result"
    }
   ],
   "source": [
    "member_df['성별'].value_counts(normalize=True)"
   ]
  },
  {
   "cell_type": "code",
   "execution_count": 19,
   "id": "1dfbf7e0",
   "metadata": {},
   "outputs": [
    {
     "data": {
      "text/plain": [
       "선거구\n",
       "비례대표         46\n",
       "충북 청주시흥덕구     1\n",
       "경기 부천시병       1\n",
       "충북 청주시서원구     1\n",
       "경기 고양시병       1\n",
       "Name: count, dtype: int64"
      ]
     },
     "execution_count": 19,
     "metadata": {},
     "output_type": "execute_result"
    }
   ],
   "source": [
    "member_df['선거구'].value_counts().head()"
   ]
  },
  {
   "cell_type": "code",
   "execution_count": 20,
   "id": "54fdf16d",
   "metadata": {},
   "outputs": [
    {
     "name": "stdout",
     "output_type": "stream",
     "text": [
      "<class 'pandas.core.series.Series'>\n",
      "<class 'pandas.core.strings.accessor.StringMethods'>\n"
     ]
    },
    {
     "data": {
      "text/html": [
       "<div>\n",
       "<style scoped>\n",
       "    .dataframe tbody tr th:only-of-type {\n",
       "        vertical-align: middle;\n",
       "    }\n",
       "\n",
       "    .dataframe tbody tr th {\n",
       "        vertical-align: top;\n",
       "    }\n",
       "\n",
       "    .dataframe thead th {\n",
       "        text-align: right;\n",
       "    }\n",
       "</style>\n",
       "<table border=\"1\" class=\"dataframe\">\n",
       "  <thead>\n",
       "    <tr style=\"text-align: right;\">\n",
       "      <th></th>\n",
       "      <th>선거구</th>\n",
       "      <th>선거구2</th>\n",
       "    </tr>\n",
       "  </thead>\n",
       "  <tbody>\n",
       "    <tr>\n",
       "      <th>1</th>\n",
       "      <td>비례대표</td>\n",
       "      <td>비례</td>\n",
       "    </tr>\n",
       "    <tr>\n",
       "      <th>2</th>\n",
       "      <td>대구 동구군위군을</td>\n",
       "      <td>대구</td>\n",
       "    </tr>\n",
       "    <tr>\n",
       "      <th>3</th>\n",
       "      <td>경기 안양시만안구</td>\n",
       "      <td>경기</td>\n",
       "    </tr>\n",
       "  </tbody>\n",
       "</table>\n",
       "</div>"
      ],
      "text/plain": [
       "         선거구 선거구2\n",
       "1       비례대표   비례\n",
       "2  대구 동구군위군을   대구\n",
       "3  경기 안양시만안구   경기"
      ]
     },
     "execution_count": 20,
     "metadata": {},
     "output_type": "execute_result"
    }
   ],
   "source": [
    "#선거구2 컬럼을 새로 추가\n",
    "#경남 창원시성산구 -> 경남\n",
    "print(type(member_df['선거구']))\n",
    "print(type(member_df['선거구'].str))\n",
    "#Series객체를 StringMethods 객체로 변환(문자열 슬라이싱을 하기 위해서)\n",
    "temp_str = member_df['선거구'].str\n",
    "#2글자 슬라이싱 값을 선거구2 라는 컬럼으로 저장\n",
    "member_df['선거구2'] = temp_str[:2]\n",
    "\n",
    "member_df.loc[0:3,['선거구','선거구2']]"
   ]
  },
  {
   "cell_type": "code",
   "execution_count": null,
   "id": "2b7d518c",
   "metadata": {},
   "outputs": [],
   "source": [
    "member_df['선거구2'].value_counts()\n",
    "#member_df['선거구2'].value_counts(normalize=True)   #퍼센터이지 비율"
   ]
  },
  {
   "cell_type": "code",
   "execution_count": null,
   "id": "8b31f973",
   "metadata": {},
   "outputs": [],
   "source": [
    "#member_df['지역비례'].value_counts()  \n",
    "member_df['선거구2'].value_counts(normalize=True)   #퍼센터이지 비율 "
   ]
  },
  {
   "cell_type": "code",
   "execution_count": 26,
   "id": "568c305b",
   "metadata": {},
   "outputs": [
    {
     "data": {
      "text/plain": [
       "294    https://www.assembly.go.kr/static/portal/img/o...\n",
       "295    https://www.assembly.go.kr/static/portal/img/o...\n",
       "296    https://www.assembly.go.kr/static/portal/img/o...\n",
       "297    https://www.assembly.go.kr/static/portal/img/o...\n",
       "298    https://www.assembly.go.kr/static/portal/img/o...\n",
       "Name: 이미지, dtype: object"
      ]
     },
     "execution_count": 26,
     "metadata": {},
     "output_type": "execute_result"
    }
   ],
   "source": [
    "member_df['이미지'].tail()"
   ]
  },
  {
   "cell_type": "code",
   "execution_count": 73,
   "id": "55203763",
   "metadata": {},
   "outputs": [
    {
     "name": "stdout",
     "output_type": "stream",
     "text": [
      "https://www.assembly.go.kr/static/portal/img/openassm/new/thumb/7d13fce5339741b6a51b3dfddb37e866.png\n"
     ]
    },
    {
     "data": {
      "text/html": [
       "<img src=\"https://www.assembly.go.kr/static/portal/img/openassm/new/thumb/7d13fce5339741b6a51b3dfddb37e866.png\"/>"
      ],
      "text/plain": [
       "<IPython.core.display.Image object>"
      ]
     },
     "metadata": {},
     "output_type": "display_data"
    },
    {
     "name": "stdout",
     "output_type": "stream",
     "text": [
      "https://www.assembly.go.kr/static/portal/img/openassm/new/thumb/cbfebf9f86b047648b600a3879b7cfd2.png\n"
     ]
    },
    {
     "data": {
      "text/html": [
       "<img src=\"https://www.assembly.go.kr/static/portal/img/openassm/new/thumb/cbfebf9f86b047648b600a3879b7cfd2.png\"/>"
      ],
      "text/plain": [
       "<IPython.core.display.Image object>"
      ]
     },
     "metadata": {},
     "output_type": "display_data"
    },
    {
     "name": "stdout",
     "output_type": "stream",
     "text": [
      "https://www.assembly.go.kr/static/portal/img/openassm/new/thumb/ae483328582e4add9e57312dfdd896a0.jpg\n"
     ]
    },
    {
     "data": {
      "text/html": [
       "<img src=\"https://www.assembly.go.kr/static/portal/img/openassm/new/thumb/ae483328582e4add9e57312dfdd896a0.jpg\"/>"
      ],
      "text/plain": [
       "<IPython.core.display.Image object>"
      ]
     },
     "metadata": {},
     "output_type": "display_data"
    }
   ],
   "source": [
    "from IPython.display import Image, display\n",
    "\n",
    "for img_url in member_df['이미지'].sample(3):\n",
    "    print(img_url)\n",
    "    display(Image(url=img_url))"
   ]
  },
  {
   "cell_type": "markdown",
   "id": "1eeabf7e",
   "metadata": {},
   "source": [
    "### 사각화\n",
    "* Image 출력 - Image 객체, display() 함수 사용\n",
    "* seaborn - countplit, displot, heatmap Plot 그려보기\n",
    "* maplotlib -histogram, pie chart Plot 그려보기\n",
    "* 한글폰트 설정 "
   ]
  },
  {
   "cell_type": "code",
   "execution_count": 27,
   "id": "2b19be3f",
   "metadata": {},
   "outputs": [],
   "source": [
    "%matplotlib inline"
   ]
  },
  {
   "cell_type": "code",
   "execution_count": 28,
   "id": "6d72ba63",
   "metadata": {},
   "outputs": [],
   "source": [
    "import matplotlib\n",
    "import matplotlib.pyplot as plt\n",
    "import matplotlib.font_manager as fm\n",
    "\n",
    "import seaborn as sns"
   ]
  },
  {
   "cell_type": "code",
   "execution_count": 29,
   "id": "ebbceb97",
   "metadata": {},
   "outputs": [
    {
     "name": "stdout",
     "output_type": "stream",
     "text": [
      "Malgun Gothic\n"
     ]
    }
   ],
   "source": [
    "#한글폰트 설정\n",
    "font_path = 'C:\\\\Windows\\\\Fonts\\\\malgun.ttf'\n",
    "# font의 파일정보로 font name을 알아내기\n",
    "font_prop = fm.FontProperties(fname=font_path).get_name()\n",
    "print(font_prop)\n",
    "# matplotlib의 rc(run command) 함수를 사용해서 폰트이름 설정\n",
    "matplotlib.rc('font', family=font_prop)"
   ]
  },
  {
   "cell_type": "code",
   "execution_count": null,
   "id": "713e589d",
   "metadata": {},
   "outputs": [],
   "source": []
  },
  {
   "cell_type": "markdown",
   "id": "21f830d3",
   "metadata": {},
   "source": [
    "### Seaborn 의 막대 그래프\n",
    "* barplot - x축과 y축을 둘 다 설정할 수 있음\n",
    "* countplot - x축 이나 y축 중에서 하나만 설정할 수 있음\n",
    "    * 범주형 속성을 가지는 데이터들의 히스토그램을 보여준다.\n",
    "    * 종류별로 count를 보여주는 Plot이다."
   ]
  },
  {
   "cell_type": "code",
   "execution_count": null,
   "id": "6b772493",
   "metadata": {},
   "outputs": [],
   "source": []
  },
  {
   "cell_type": "code",
   "execution_count": 36,
   "id": "0f7946ea",
   "metadata": {},
   "outputs": [
    {
     "data": {
      "text/plain": [
       "Index(['더불어민주당', '국민의힘', '조국혁신당', '진보당', '무소속', '개혁신당', '기본소득당', '사회민주당'], dtype='object', name='정당')"
      ]
     },
     "execution_count": 36,
     "metadata": {},
     "output_type": "execute_result"
    }
   ],
   "source": [
    "member_df['정당'].value_counts().index"
   ]
  },
  {
   "cell_type": "code",
   "execution_count": null,
   "id": "fd75e044",
   "metadata": {},
   "outputs": [],
   "source": [
    "figure, (axes1, axes2 ,axes3) = plt.subplots(nrows=3, ncols=1)\n",
    "figure.set_size_inches(8,12)\n",
    "plt.show()"
   ]
  },
  {
   "cell_type": "code",
   "execution_count": null,
   "id": "78cdd8dd",
   "metadata": {},
   "outputs": [],
   "source": [
    "figure, (axes1, axes2 ,axes3) = plt.subplots(nrows=3, ncols=1)\n",
    "figure.set_size_inches(8,12)\n",
    "\n",
    "sns.countplot(data=member_df, x='정당',ax=axes1,order=member_df['정당'].value_counts().index, hue='정당')\n",
    "sns.countplot(data=member_df, x='당선횟수',ax=axes2,order=member_df['당선횟수'].value_counts().index, hue='당선횟수')\n",
    "sns.countplot(data=member_df, x='성별',ax=axes3,order=member_df['성별'].value_counts().index, hue='성별')\n",
    "plt.show()"
   ]
  },
  {
   "cell_type": "markdown",
   "id": "3e932e7e",
   "metadata": {},
   "source": [
    "### Matplotlib 의 Pie Plot 그려보기"
   ]
  },
  {
   "cell_type": "code",
   "execution_count": null,
   "id": "6009b217",
   "metadata": {},
   "outputs": [],
   "source": [
    "cdf =member_df['선거구2'].value_counts(normalize=True)\n",
    "print(cdf.index)\n",
    "cdf"
   ]
  },
  {
   "cell_type": "code",
   "execution_count": null,
   "id": "9234ace6",
   "metadata": {},
   "outputs": [],
   "source": [
    "# figure size 설정\n",
    "plt.figure(figsize=(20,12))\n",
    "print(type(figure))\n",
    "# pie() 함수 -pie plot을 그려주는 함수\n",
    "plt.pie(cdf, labels=cdf.index, autopct='%1.1f%%', startangle=140, shadow=True)\n",
    "# pie plot을 그릴떄 원의 형태를 유지하도록 하는 설정\n",
    "plt.axis('equal')\n",
    "plt.title('선거구 분포값')\n",
    "plt.show()"
   ]
  },
  {
   "cell_type": "markdown",
   "id": "c6654246",
   "metadata": {},
   "source": [
    "### Seaborn의 HistPlot (분포도)\n",
    "* 히스토그램은 구간에 따른 Count를 표현하기 때문에, y는 count로 고정되어 있어 x값만 설정하면 됩니다. ( x 와 y 중에서 하나만 설정하면 됩니다.)\n",
    "* hue 옵션은 값에 따라 Plot의 색을 다르게 표현할 수 있다.\n",
    "* multiple = 'dodge'|'stack'"
   ]
  },
  {
   "cell_type": "code",
   "execution_count": null,
   "id": "1787d0ba",
   "metadata": {},
   "outputs": [],
   "source": [
    "figure, axes1 = plt.subplots(nrows=1, ncols=1)\n",
    "figure.set_size_inches(18,12)\n",
    "\n",
    "sns.histplot(data=member_df, x='정당', ax=axes1, hue='성별', multiple='dodge',\n",
    "             palette={'남': 'blue', '여': 'red'}, shrink=0.8)\n",
    "plt.show()"
   ]
  },
  {
   "cell_type": "code",
   "execution_count": null,
   "id": "ee4b8942",
   "metadata": {},
   "outputs": [],
   "source": [
    "member_df.loc[member_df['정당'] == '조국혁신당',['이름','성별']]"
   ]
  },
  {
   "cell_type": "code",
   "execution_count": null,
   "id": "8fdc3e5e",
   "metadata": {},
   "outputs": [],
   "source": [
    "member_df.loc[member_df['정당'] == '조국혁신당',['이름','성별']].groupby('성별').count()"
   ]
  },
  {
   "cell_type": "markdown",
   "id": "fe1fc7e6",
   "metadata": {},
   "source": [
    "### 다중 빈도 막대 그래프 catplot\n",
    "* 다중 빈도 막대그래프는 countplot() 또는 catplot() 이 있습니다.\n",
    "* hue 옵션은 변량을 색상으로 구분하는 파라미터입니다."
   ]
  },
  {
   "cell_type": "code",
   "execution_count": 66,
   "id": "61ce4d1a",
   "metadata": {},
   "outputs": [
    {
     "data": {
      "text/plain": [
       "Index(['경기', '서울', '비례', '부산', '경남', '경북', '인천', '대구', '전북', '충남', '전남', '충북',\n",
       "       '광주', '강원', '대전', '울산', '제주', '세종'],\n",
       "      dtype='object', name='선거구2')"
      ]
     },
     "execution_count": 66,
     "metadata": {},
     "output_type": "execute_result"
    }
   ],
   "source": [
    "# 선거구 이름들이 빈도순으로 정렬된 리스트입니다.\n",
    "s_index = member_df['선거구2'].value_counts().index\n",
    "s_index "
   ]
  },
  {
   "cell_type": "code",
   "execution_count": null,
   "id": "91c77348",
   "metadata": {},
   "outputs": [],
   "source": [
    "#figure, axes1 = plt.subplots(nrows=1, ncols=1)\n",
    "#figure.set_size_inches(24,12)\n",
    "\n",
    "sns.catplot(data=member_df, y='선거구2', hue='성별', kind='count',\n",
    "             palette={'남': 'navy', '여': 'orange'},\n",
    "             order=s_index)\n",
    "plt.show()"
   ]
  },
  {
   "cell_type": "markdown",
   "id": "84317ab3",
   "metadata": {},
   "source": [
    "### 히스토그램을 만드는 displot\n",
    "* hue와 palette를 사용하여 색상을 지정할 수 있습니다.\n",
    "* col 옵션은 성별에 따라 서브플롯을 나누어서 그려줍니다."
   ]
  },
  {
   "cell_type": "code",
   "execution_count": null,
   "id": "09e438fd",
   "metadata": {},
   "outputs": [],
   "source": [
    "sns.displot(\n",
    "    data=member_df,\n",
    "    x='당선횟수',\n",
    "    hue='성별',  # 성별에 따라 색상 구분\n",
    "    col='성별',  # 성별에 따라 캔버스 구분\n",
    "    palette={'남': 'blue', '여': 'orange'},  # 색상 지정\n",
    "    kde=True,  # 커널 밀도 추정 곡선 추가 (선택 사항)\n",
    "    height=5,  # 각 플롯의 높이\n",
    "    aspect=1.5  # 각 플롯의 가로 세로 비율\n",
    ")\n",
    "plt.show()"
   ]
  },
  {
   "cell_type": "code",
   "execution_count": null,
   "id": "ce7b00e7",
   "metadata": {},
   "outputs": [],
   "source": []
  }
 ],
 "metadata": {
  "kernelspec": {
   "display_name": "base",
   "language": "python",
   "name": "python3"
  },
  "language_info": {
   "codemirror_mode": {
    "name": "ipython",
    "version": 3
   },
   "file_extension": ".py",
   "mimetype": "text/x-python",
   "name": "python",
   "nbconvert_exporter": "python",
   "pygments_lexer": "ipython3",
   "version": "3.12.7"
  }
 },
 "nbformat": 4,
 "nbformat_minor": 5
}

{
 "cells": [
  {
   "cell_type": "markdown",
   "id": "84450354",
   "metadata": {},
   "source": [
    "### 1-1. Daum 뉴스기사 제목 스크래핑하기\n"
   ]
  },
  {
   "cell_type": "code",
   "execution_count": null,
   "id": "3c6082c5",
   "metadata": {},
   "outputs": [],
   "source": []
  },
  {
   "cell_type": "markdown",
   "id": "bdafa013",
   "metadata": {},
   "source": [
    "### 1-2. 여러개의 section 중 하나를 선택해서 url에서 뉴스기사의 링크와 제목을 출력하는 코드(함수)\n",
    "\n"
   ]
  },
  {
   "cell_type": "code",
   "execution_count": null,
   "id": "a986029b",
   "metadata": {},
   "outputs": [],
   "source": []
  }
 ],
 "metadata": {
  "language_info": {
   "name": "python"
  }
 },
 "nbformat": 4,
 "nbformat_minor": 5
}

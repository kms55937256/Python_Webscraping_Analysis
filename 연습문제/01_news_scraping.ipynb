{
 "cells": [
  {
   "cell_type": "markdown",
   "id": "84450354",
   "metadata": {},
   "source": [
    "### 1-1. Daum 뉴스기사 제목 스크래핑하기\n"
   ]
  },
  {
   "cell_type": "code",
   "execution_count": 9,
   "id": "3c6082c5",
   "metadata": {},
   "outputs": [
    {
     "name": "stdout",
     "output_type": "stream",
     "text": [
      "https://news.daum.net/society\n",
      "200 True\n",
      "<class 'requests.models.Response'>\n",
      "<Response [200]>\n",
      "9\n",
      "<class 'bs4.element.ResultSet'>\n",
      "1 [단독] '의정갈등'에 '장거리 이송'도 급증‥비수도권 직격탄 https://v.daum.net/v/20250722203113026\n",
      "2 문에 ‘안전고리’ 다니…쪽방촌 여성 주민 방도 시원해졌다 https://v.daum.net/v/20250722203005994\n",
      "3 [단독] 전세금 760억 등친 '수원 왕회장'…감옥서도 지인 앞세워 '돈벌이' https://v.daum.net/v/20250722202940985\n",
      "4 [단독] 응급실 뺑뺑이 악화‥'2시간 초과' 2배 이상 늘어 https://v.daum.net/v/20250722202815955\n",
      "5 중3, 대도시·읍면 ‘학업 격차’ 더 벌어지고 협동력 더 떨어졌다 https://v.daum.net/v/20250722202527894\n",
      "6 박완수 경남지사 ‘경제수도 도약’·‘도민행복 시대 정착’ 이룬다 https://v.daum.net/v/20250722202517891\n",
      "7 극한호우 잦고 강한데‥지정에 5년 걸리는 '산사태 취약지역' https://v.daum.net/v/20250722202513888\n",
      "8 폭염 시작하자 그만둔 '실적왕' 택배기사... 다른 이유가 있었다 https://v.daum.net/v/20250722202408880\n",
      "9 산불 지역은 피해 없다?‥엉터리 보고에 주민 '분통' https://v.daum.net/v/20250722202213848\n"
     ]
    }
   ],
   "source": [
    "import requests\n",
    "from bs4 import BeautifulSoup\n",
    "\n",
    "# 사회 뉴스 \n",
    "req_param = {\n",
    "    'section': 'society'\n",
    "}\n",
    "url = 'https://news.daum.net/{section}'.format(**req_param)\n",
    "print(url)\n",
    "\n",
    "# 요청 헤더 설정 : 브라우저 정보\n",
    "req_header = {\n",
    "    \"user-agent\": \"Mozilla/5.0 (Windows NT 10.0; Win64; x64) AppleWebKit/537.36 (KHTML, like Gecko) Chrome/104.0.0.0 Safari/537.36\"\n",
    "}\n",
    "\n",
    "# requests 의 get() 함수 호출하기 \n",
    "res = requests.get(url, headers=req_header)\n",
    "res.encoding = 'utf-8'\n",
    "print(res.status_code, res.ok)\n",
    "print(type(res))\n",
    "print(res)\n",
    "\n",
    "# 응답(response)이 OK 이면\n",
    "# 응답 (response)에서 text 추출\n",
    "if res.ok:\n",
    "    html = res.text\n",
    "    # BeautifulSoup 객체 생성\n",
    "    soup = BeautifulSoup(html, \"html.parser\")   \n",
    "\n",
    "    # CSS 선택자\n",
    "    # print(soup.select(\"a.item_newsheadline2\"))\n",
    "    '''\n",
    "       <a class='item_newsheadline2' href='https://v.daum.net/v/...'>\n",
    "         <div class='cont_thumb'>\n",
    "           <strong class='tit_txt'>기사 제목</strong>\n",
    "    '''\n",
    "    a_tags = soup.select(\"a.item_newsheadline2\")\n",
    "    print(len(a_tags))\n",
    "    print(type(a_tags)) #[Tag,Tag,Tag]\n",
    "\n",
    "    # <a> 태그 리스트 순회하기\n",
    "    for idx, a_tag in enumerate(a_tags, 1):        \n",
    "        link = a_tag['href']\n",
    "        strong_tag = a_tag.select_one('strong.tit_txt')\n",
    "        title = strong_tag.text.strip() if strong_tag else '제목 없음'\n",
    "        print(f'{idx} {title} {link}')\n",
    "else:\n",
    "    print(f'Error Code={res.status_code}')\n",
    "\n",
    "# <a> 태그 리스트 순회하기    \n",
    "\n",
    "# 응답(response)이 Error 이면 status code 출력"
   ]
  },
  {
   "cell_type": "markdown",
   "id": "bdafa013",
   "metadata": {},
   "source": [
    "### 1-2. 여러개의 section 중 하나를 선택해서 url에서 뉴스기사의 링크와 제목을 출력하는 코드(함수)\n",
    "\n"
   ]
  },
  {
   "cell_type": "code",
   "execution_count": 20,
   "id": "a986029b",
   "metadata": {},
   "outputs": [],
   "source": [
    "import requests\n",
    "from bs4 import BeautifulSoup\n",
    "\n",
    "section_dict = {'기후환경': 'climate', '사회': 'society', '경제': 'economy', '정치': 'politics',\n",
    "                 '국제': 'world', '문화': 'culture', '생활': 'life', 'IT/과학': 'tech', '인물': 'people'}\n",
    "\n",
    "def print_news(section):\n",
    "    sid = section_dict[section]\n",
    "    url = f'https://news.daum.net/{sid}'\n",
    "    print(f'{url} {section} 뉴스')\n",
    "\n",
    "    # 요청 헤더 설정 : 브라우저 정보\n",
    "    req_header = {\n",
    "        \"user-agent\": \"Mozilla/5.0 (Windows NT 10.0; Win64; x64) AppleWebKit/537.36 (KHTML, like Gecko) Chrome/104.0.0.0 Safari/537.36\"\n",
    "    }\n",
    "\n",
    "    # requests 의 get() 함수 호출하기 \n",
    "    res = requests.get(url, headers=req_header)\n",
    "    res.encoding = 'utf-8'\n",
    "    print(res.status_code, res.ok)\n",
    "\n",
    "    if res.ok:\n",
    "        html = res.text\n",
    "        soup = BeautifulSoup(html, \"html.parser\")\n",
    "\n",
    "        # 뉴스 리스트 추출\n",
    "        a_tags = soup.select(\"ul.list_newsheadline2 > li > a\")\n",
    "        print(len(a_tags))\n",
    "\n",
    "        for idx, a_tag in enumerate(a_tags, 1):\n",
    "            title_tag = a_tag.select_one(\"strong.tit_txt\")\n",
    "            title = title_tag.text.strip() if title_tag else \"제목 없음\"\n",
    "            link = a_tag['href']\n",
    "            print(f'{idx} {title} {link}')\n",
    "    else:\n",
    "        print(f'Error Code={res.status_code}')"
   ]
  },
  {
   "cell_type": "code",
   "execution_count": 21,
   "id": "8691a78f",
   "metadata": {},
   "outputs": [
    {
     "name": "stdout",
     "output_type": "stream",
     "text": [
      "https://news.daum.net/society 사회 뉴스\n",
      "200 True\n",
      "9\n",
      "1 정기명 여수시장, 순천으로 옮길 여수MBC 맹비난 https://v.daum.net/v/20250724220104509\n",
      "2 주택 물량 확보에 속도전 '투트랙'…입주 시기 5.5년 단축 https://v.daum.net/v/20250724215346419\n",
      "3 [단독] \"비즈니스 모두 태우려 비행기 두대 나눠 예약\"…혈세외유 추적 https://v.daum.net/v/20250724213228122\n",
      "4 '특혜 반대' 싸늘한 여론…전공의들, 환자단체 찾아 소통 시도 https://v.daum.net/v/20250724213049084\n",
      "5 해병특검, 임성근 비화폰 통신 기록 확보…구명로비 수사 속도 https://v.daum.net/v/20250724213033068\n",
      "6 폭우로 5년새 두 번이나…잠겨버린 공장·주택 \"막막합니다\" https://v.daum.net/v/20250724212658969\n",
      "7 \"그날 밤 진실 온전히 밝혀지길…증언 용기내 달라\" 이태원참사 1000일 https://v.daum.net/v/20250724211842781\n",
      "8 [단독] '롤스로이스 사건' 반전…수사 경찰 간부 억대 향응 https://v.daum.net/v/20250724211209604\n",
      "9 사천 남일대해수욕장, 이름의 비밀을 아시나요 https://v.daum.net/v/20250724210806476\n"
     ]
    }
   ],
   "source": [
    "print_news('사회')"
   ]
  },
  {
   "cell_type": "markdown",
   "id": "32c429fe",
   "metadata": {},
   "source": [
    "### 2.1 Nate 뉴스기사 제목 스크래핑하기 "
   ]
  },
  {
   "cell_type": "code",
   "execution_count": 75,
   "id": "93dc29a2",
   "metadata": {},
   "outputs": [],
   "source": [
    "import requests\n",
    "from bs4 import BeautifulSoup\n",
    "from urllib.parse import urljoin\n",
    "from IPython.display import Image, display\n",
    "import os\n",
    "\n",
    "section_dict = {\n",
    "    '최신뉴스': 'n0100',\n",
    "    '정치': 'n0200',\n",
    "    '경제': 'n0300',\n",
    "    '사회': 'n0400',\n",
    "    '세계': 'n0500',\n",
    "    'IT/과학': 'n0600',\n",
    "}\n",
    "\n",
    "def scrape_nate_news(section, max_articles=3):\n",
    "    if section not in section_dict:\n",
    "        print(f\"[오류] 유효하지 않은 섹션 이름입니다: {section}\")\n",
    "        return\n",
    "\n",
    "    base_url = 'https://news.nate.com'\n",
    "    headers = {\n",
    "        \"user-agent\": \"Mozilla/5.0 (Windows NT 10.0; Win64; x64)\"\n",
    "    }\n",
    "\n",
    "    sid = section_dict[section]\n",
    "    section_url = f\"{base_url}/section?mid={sid}\"\n",
    "    print(f\"[{section}] {section_url}\")\n",
    "\n",
    "    res = requests.get(section_url, headers=headers)\n",
    "    res.encoding = 'euc-kr'\n",
    "\n",
    "    if not res.ok:\n",
    "        print(f\"[오류] 섹션 페이지 접속 실패: {res.status_code}\")\n",
    "        return\n",
    "\n",
    "    soup = BeautifulSoup(res.text, 'html.parser')\n",
    "    news_links = soup.select(\"div#newsContents a.lt1\")\n",
    "\n",
    "    for idx, a_tag in enumerate(news_links[:max_articles], 1):\n",
    "        title = a_tag.get_text(strip=True)\n",
    "        news_url = urljoin(base_url, a_tag['href'])\n",
    "        print(f\"\\n{idx}. {title}\")\n",
    "        print(news_url)\n",
    "\n",
    "        news_res = requests.get(news_url, headers=headers)\n",
    "        news_res.encoding = 'euc-kr'\n",
    "\n",
    "        if not news_res.ok:\n",
    "            print(\"뉴스 페이지 접속 실패\")\n",
    "            continue\n",
    "\n",
    "        news_soup = BeautifulSoup(news_res.text, 'html.parser')\n",
    "        img_tag = news_soup.select_one(\"img#mainimg0\")\n",
    "\n",
    "        if img_tag and 'src' in img_tag.attrs:\n",
    "            img_src = img_tag['src']\n",
    "            img_url = urljoin(\"https:\", img_src)\n",
    "\n",
    "            img_res = requests.get(img_url, headers=headers)\n",
    "            if img_res.ok:\n",
    "                img_data = img_res.content\n",
    "                filename = f\"{section}_{idx}.jpg\"\n",
    "                with open(filename, 'wb') as f:\n",
    "                    f.write(img_data)\n",
    "                    print(f\"이미지 저장 완료: {filename} ({len(img_data):,} bytes)\")\n",
    "                    display(Image(filename))\n",
    "            else:\n",
    "                print(\"이미지 다운로드 실패:\", img_url)\n",
    "        else:\n",
    "            print(\"대표 이미지 없음\")"
   ]
  },
  {
   "cell_type": "code",
   "execution_count": 78,
   "id": "9ade5a48",
   "metadata": {},
   "outputs": [
    {
     "name": "stdout",
     "output_type": "stream",
     "text": [
      "[정치] https://news.nate.com/section?mid=n0200\n",
      "\n",
      "1. 홍준표, 한동훈 향해 직격···\"날 더우니 별의별 X이 설쳐, 우리나라엔 극우 없다\"사진=연합뉴스[서울경제] 홍준표 전 대구시장이 한동훈 전 국민의힘 대표를 겨냥해 \"있지도 않은 극우 허상과 싸우겠다는 것\"이라며 거세게 몰아세웠다. 24일 홍...\n",
      "https://news.nate.com/view/20250724n39855?mid=n0200\n",
      "이미지 저장 완료: 정치_1.jpg (39,932 bytes)\n"
     ]
    },
    {
     "data": {
      "image/jpeg": "[encoded data removed]",
      "text/plain": [
       "<IPython.core.display.Image object>"
      ]
     },
     "metadata": {},
     "output_type": "display_data"
    },
    {
     "name": "stdout",
     "output_type": "stream",
     "text": [
      "\n",
      "2. [단독] 한국 수송기 일본 영공 진입 시도에…전투기 출격 일촉즉발우리 공군 수송기가 지난 13일, 일본 오키나와 영공 쪽으로 무단 진입해 일본 자위대 전투기가 출격하고 비상 대응하는 일이 있었습니다.\n",
      "\n",
      "일...\n",
      "https://news.nate.com/view/20250724n41135?mid=n0200\n",
      "대표 이미지 없음\n",
      "\n",
      "3. [단독] '총 보여라' 윤 지시에…이광우 \"언론에 잘 보이게 가운데로 걸어라\"2차 체포영장 집행을 앞두고 ‘경찰에 총을 보여줘 겁을 주라’는 윤석열 전 대통령의 지시를 받은 이광우 전 대통령경호처 경호본부장이 총기를 지참한 ‘위력 ...\n",
      "https://news.nate.com/view/20250724n38473?mid=n0200\n",
      "이미지 저장 완료: 정치_3.jpg (43,511 bytes)\n"
     ]
    },
    {
     "data": {
      "image/jpeg": "[encoded data removed]",
      "text/plain": [
       "<IPython.core.display.Image object>"
      ]
     },
     "metadata": {},
     "output_type": "display_data"
    }
   ],
   "source": [
    "scrape_nate_news('정치')"
   ]
  },
  {
   "cell_type": "markdown",
   "id": "722c02ae",
   "metadata": {},
   "source": [
    "### 2.2 하나의 네이버 웹툰과 1개의 회차에 대한 Image 다운로드 하기\n",
    "\n"
   ]
  },
  {
   "cell_type": "code",
   "execution_count": 74,
   "id": "1c9915b8",
   "metadata": {},
   "outputs": [
    {
     "name": "stdout",
     "output_type": "stream",
     "text": [
      "200\n",
      "241\n",
      "241\n",
      "92\n",
      "Writing to img2\\20250423141131_e2678c95e8ed46091328ca558681822c_IMAG01_1.jpg(132,131 bytes)\n"
     ]
    },
    {
     "data": {
      "text/plain": [
       "132131"
      ]
     },
     "execution_count": 74,
     "metadata": {},
     "output_type": "execute_result"
    },
    {
     "name": "stdout",
     "output_type": "stream",
     "text": [
      "Writing to img2\\20250423141131_e2678c95e8ed46091328ca558681822c_IMAG01_2.jpg(179,067 bytes)\n"
     ]
    },
    {
     "data": {
      "text/plain": [
       "179067"
      ]
     },
     "execution_count": 74,
     "metadata": {},
     "output_type": "execute_result"
    },
    {
     "name": "stdout",
     "output_type": "stream",
     "text": [
      "Writing to img2\\20250423141131_e2678c95e8ed46091328ca558681822c_IMAG01_3.jpg(141,992 bytes)\n"
     ]
    },
    {
     "data": {
      "text/plain": [
       "141992"
      ]
     },
     "execution_count": 74,
     "metadata": {},
     "output_type": "execute_result"
    },
    {
     "name": "stdout",
     "output_type": "stream",
     "text": [
      "Writing to img2\\20250423141131_e2678c95e8ed46091328ca558681822c_IMAG01_4.jpg(185,493 bytes)\n"
     ]
    },
    {
     "data": {
      "text/plain": [
       "185493"
      ]
     },
     "execution_count": 74,
     "metadata": {},
     "output_type": "execute_result"
    },
    {
     "name": "stdout",
     "output_type": "stream",
     "text": [
      "Writing to img2\\20250423141131_e2678c95e8ed46091328ca558681822c_IMAG01_5.jpg(144,860 bytes)\n"
     ]
    },
    {
     "data": {
      "text/plain": [
       "144860"
      ]
     },
     "execution_count": 74,
     "metadata": {},
     "output_type": "execute_result"
    },
    {
     "name": "stdout",
     "output_type": "stream",
     "text": [
      "Writing to img2\\20250423141131_e2678c95e8ed46091328ca558681822c_IMAG01_6.jpg(213,388 bytes)\n"
     ]
    },
    {
     "data": {
      "text/plain": [
       "213388"
      ]
     },
     "execution_count": 74,
     "metadata": {},
     "output_type": "execute_result"
    },
    {
     "name": "stdout",
     "output_type": "stream",
     "text": [
      "Writing to img2\\20250423141131_e2678c95e8ed46091328ca558681822c_IMAG01_7.jpg(203,656 bytes)\n"
     ]
    },
    {
     "data": {
      "text/plain": [
       "203656"
      ]
     },
     "execution_count": 74,
     "metadata": {},
     "output_type": "execute_result"
    },
    {
     "name": "stdout",
     "output_type": "stream",
     "text": [
      "Writing to img2\\20250423141131_e2678c95e8ed46091328ca558681822c_IMAG01_8.jpg(186,604 bytes)\n"
     ]
    },
    {
     "data": {
      "text/plain": [
       "186604"
      ]
     },
     "execution_count": 74,
     "metadata": {},
     "output_type": "execute_result"
    },
    {
     "name": "stdout",
     "output_type": "stream",
     "text": [
      "Writing to img2\\20250423141131_e2678c95e8ed46091328ca558681822c_IMAG01_9.jpg(204,645 bytes)\n"
     ]
    },
    {
     "data": {
      "text/plain": [
       "204645"
      ]
     },
     "execution_count": 74,
     "metadata": {},
     "output_type": "execute_result"
    },
    {
     "name": "stdout",
     "output_type": "stream",
     "text": [
      "Writing to img2\\20250423141131_e2678c95e8ed46091328ca558681822c_IMAG01_10.jpg(169,600 bytes)\n"
     ]
    },
    {
     "data": {
      "text/plain": [
       "169600"
      ]
     },
     "execution_count": 74,
     "metadata": {},
     "output_type": "execute_result"
    },
    {
     "name": "stdout",
     "output_type": "stream",
     "text": [
      "Writing to img2\\20250423141131_e2678c95e8ed46091328ca558681822c_IMAG01_11.jpg(155,081 bytes)\n"
     ]
    },
    {
     "data": {
      "text/plain": [
       "155081"
      ]
     },
     "execution_count": 74,
     "metadata": {},
     "output_type": "execute_result"
    },
    {
     "name": "stdout",
     "output_type": "stream",
     "text": [
      "Writing to img2\\20250423141131_e2678c95e8ed46091328ca558681822c_IMAG01_12.jpg(183,100 bytes)\n"
     ]
    },
    {
     "data": {
      "text/plain": [
       "183100"
      ]
     },
     "execution_count": 74,
     "metadata": {},
     "output_type": "execute_result"
    },
    {
     "name": "stdout",
     "output_type": "stream",
     "text": [
      "Writing to img2\\20250423141131_e2678c95e8ed46091328ca558681822c_IMAG01_13.jpg(179,446 bytes)\n"
     ]
    },
    {
     "data": {
      "text/plain": [
       "179446"
      ]
     },
     "execution_count": 74,
     "metadata": {},
     "output_type": "execute_result"
    },
    {
     "name": "stdout",
     "output_type": "stream",
     "text": [
      "Writing to img2\\20250423141131_e2678c95e8ed46091328ca558681822c_IMAG01_14.jpg(140,301 bytes)\n"
     ]
    },
    {
     "data": {
      "text/plain": [
       "140301"
      ]
     },
     "execution_count": 74,
     "metadata": {},
     "output_type": "execute_result"
    },
    {
     "name": "stdout",
     "output_type": "stream",
     "text": [
      "Writing to img2\\20250423141131_e2678c95e8ed46091328ca558681822c_IMAG01_15.jpg(99,285 bytes)\n"
     ]
    },
    {
     "data": {
      "text/plain": [
       "99285"
      ]
     },
     "execution_count": 74,
     "metadata": {},
     "output_type": "execute_result"
    },
    {
     "name": "stdout",
     "output_type": "stream",
     "text": [
      "Writing to img2\\20250423141131_e2678c95e8ed46091328ca558681822c_IMAG01_16.jpg(178,047 bytes)\n"
     ]
    },
    {
     "data": {
      "text/plain": [
       "178047"
      ]
     },
     "execution_count": 74,
     "metadata": {},
     "output_type": "execute_result"
    },
    {
     "name": "stdout",
     "output_type": "stream",
     "text": [
      "Writing to img2\\20250423141131_e2678c95e8ed46091328ca558681822c_IMAG01_17.jpg(167,571 bytes)\n"
     ]
    },
    {
     "data": {
      "text/plain": [
       "167571"
      ]
     },
     "execution_count": 74,
     "metadata": {},
     "output_type": "execute_result"
    },
    {
     "name": "stdout",
     "output_type": "stream",
     "text": [
      "Writing to img2\\20250423141131_e2678c95e8ed46091328ca558681822c_IMAG01_18.jpg(210,399 bytes)\n"
     ]
    },
    {
     "data": {
      "text/plain": [
       "210399"
      ]
     },
     "execution_count": 74,
     "metadata": {},
     "output_type": "execute_result"
    },
    {
     "name": "stdout",
     "output_type": "stream",
     "text": [
      "Writing to img2\\20250423141131_e2678c95e8ed46091328ca558681822c_IMAG01_19.jpg(183,343 bytes)\n"
     ]
    },
    {
     "data": {
      "text/plain": [
       "183343"
      ]
     },
     "execution_count": 74,
     "metadata": {},
     "output_type": "execute_result"
    },
    {
     "name": "stdout",
     "output_type": "stream",
     "text": [
      "Writing to img2\\20250423141131_e2678c95e8ed46091328ca558681822c_IMAG01_20.jpg(183,175 bytes)\n"
     ]
    },
    {
     "data": {
      "text/plain": [
       "183175"
      ]
     },
     "execution_count": 74,
     "metadata": {},
     "output_type": "execute_result"
    },
    {
     "name": "stdout",
     "output_type": "stream",
     "text": [
      "Writing to img2\\20250423141131_e2678c95e8ed46091328ca558681822c_IMAG01_21.jpg(156,693 bytes)\n"
     ]
    },
    {
     "data": {
      "text/plain": [
       "156693"
      ]
     },
     "execution_count": 74,
     "metadata": {},
     "output_type": "execute_result"
    },
    {
     "name": "stdout",
     "output_type": "stream",
     "text": [
      "Writing to img2\\20250423141131_e2678c95e8ed46091328ca558681822c_IMAG01_22.jpg(136,534 bytes)\n"
     ]
    },
    {
     "data": {
      "text/plain": [
       "136534"
      ]
     },
     "execution_count": 74,
     "metadata": {},
     "output_type": "execute_result"
    },
    {
     "name": "stdout",
     "output_type": "stream",
     "text": [
      "Writing to img2\\20250423141131_e2678c95e8ed46091328ca558681822c_IMAG01_23.jpg(204,902 bytes)\n"
     ]
    },
    {
     "data": {
      "text/plain": [
       "204902"
      ]
     },
     "execution_count": 74,
     "metadata": {},
     "output_type": "execute_result"
    },
    {
     "name": "stdout",
     "output_type": "stream",
     "text": [
      "Writing to img2\\20250423141131_e2678c95e8ed46091328ca558681822c_IMAG01_24.jpg(141,629 bytes)\n"
     ]
    },
    {
     "data": {
      "text/plain": [
       "141629"
      ]
     },
     "execution_count": 74,
     "metadata": {},
     "output_type": "execute_result"
    },
    {
     "name": "stdout",
     "output_type": "stream",
     "text": [
      "Writing to img2\\20250423141131_e2678c95e8ed46091328ca558681822c_IMAG01_25.jpg(136,977 bytes)\n"
     ]
    },
    {
     "data": {
      "text/plain": [
       "136977"
      ]
     },
     "execution_count": 74,
     "metadata": {},
     "output_type": "execute_result"
    },
    {
     "name": "stdout",
     "output_type": "stream",
     "text": [
      "Writing to img2\\20250423141131_e2678c95e8ed46091328ca558681822c_IMAG01_26.jpg(108,809 bytes)\n"
     ]
    },
    {
     "data": {
      "text/plain": [
       "108809"
      ]
     },
     "execution_count": 74,
     "metadata": {},
     "output_type": "execute_result"
    },
    {
     "name": "stdout",
     "output_type": "stream",
     "text": [
      "Writing to img2\\20250423141131_e2678c95e8ed46091328ca558681822c_IMAG01_27.jpg(147,363 bytes)\n"
     ]
    },
    {
     "data": {
      "text/plain": [
       "147363"
      ]
     },
     "execution_count": 74,
     "metadata": {},
     "output_type": "execute_result"
    },
    {
     "name": "stdout",
     "output_type": "stream",
     "text": [
      "Writing to img2\\20250423141131_e2678c95e8ed46091328ca558681822c_IMAG01_28.jpg(127,876 bytes)\n"
     ]
    },
    {
     "data": {
      "text/plain": [
       "127876"
      ]
     },
     "execution_count": 74,
     "metadata": {},
     "output_type": "execute_result"
    },
    {
     "name": "stdout",
     "output_type": "stream",
     "text": [
      "Writing to img2\\20250423141131_e2678c95e8ed46091328ca558681822c_IMAG01_29.jpg(281,625 bytes)\n"
     ]
    },
    {
     "data": {
      "text/plain": [
       "281625"
      ]
     },
     "execution_count": 74,
     "metadata": {},
     "output_type": "execute_result"
    },
    {
     "name": "stdout",
     "output_type": "stream",
     "text": [
      "Writing to img2\\20250423141131_e2678c95e8ed46091328ca558681822c_IMAG01_30.jpg(158,059 bytes)\n"
     ]
    },
    {
     "data": {
      "text/plain": [
       "158059"
      ]
     },
     "execution_count": 74,
     "metadata": {},
     "output_type": "execute_result"
    },
    {
     "name": "stdout",
     "output_type": "stream",
     "text": [
      "Writing to img2\\20250423141131_e2678c95e8ed46091328ca558681822c_IMAG01_31.jpg(241,078 bytes)\n"
     ]
    },
    {
     "data": {
      "text/plain": [
       "241078"
      ]
     },
     "execution_count": 74,
     "metadata": {},
     "output_type": "execute_result"
    },
    {
     "name": "stdout",
     "output_type": "stream",
     "text": [
      "Writing to img2\\20250423141131_e2678c95e8ed46091328ca558681822c_IMAG01_32.jpg(263,961 bytes)\n"
     ]
    },
    {
     "data": {
      "text/plain": [
       "263961"
      ]
     },
     "execution_count": 74,
     "metadata": {},
     "output_type": "execute_result"
    },
    {
     "name": "stdout",
     "output_type": "stream",
     "text": [
      "Writing to img2\\20250423141131_e2678c95e8ed46091328ca558681822c_IMAG01_33.jpg(247,955 bytes)\n"
     ]
    },
    {
     "data": {
      "text/plain": [
       "247955"
      ]
     },
     "execution_count": 74,
     "metadata": {},
     "output_type": "execute_result"
    },
    {
     "name": "stdout",
     "output_type": "stream",
     "text": [
      "Writing to img2\\20250423141131_e2678c95e8ed46091328ca558681822c_IMAG01_34.jpg(183,867 bytes)\n"
     ]
    },
    {
     "data": {
      "text/plain": [
       "183867"
      ]
     },
     "execution_count": 74,
     "metadata": {},
     "output_type": "execute_result"
    },
    {
     "name": "stdout",
     "output_type": "stream",
     "text": [
      "Writing to img2\\20250423141131_e2678c95e8ed46091328ca558681822c_IMAG01_35.jpg(128,568 bytes)\n"
     ]
    },
    {
     "data": {
      "text/plain": [
       "128568"
      ]
     },
     "execution_count": 74,
     "metadata": {},
     "output_type": "execute_result"
    },
    {
     "name": "stdout",
     "output_type": "stream",
     "text": [
      "Writing to img2\\20250423141131_e2678c95e8ed46091328ca558681822c_IMAG01_36.jpg(159,353 bytes)\n"
     ]
    },
    {
     "data": {
      "text/plain": [
       "159353"
      ]
     },
     "execution_count": 74,
     "metadata": {},
     "output_type": "execute_result"
    },
    {
     "name": "stdout",
     "output_type": "stream",
     "text": [
      "Writing to img2\\20250423141131_e2678c95e8ed46091328ca558681822c_IMAG01_37.jpg(146,255 bytes)\n"
     ]
    },
    {
     "data": {
      "text/plain": [
       "146255"
      ]
     },
     "execution_count": 74,
     "metadata": {},
     "output_type": "execute_result"
    },
    {
     "name": "stdout",
     "output_type": "stream",
     "text": [
      "Writing to img2\\20250423141131_e2678c95e8ed46091328ca558681822c_IMAG01_38.jpg(138,710 bytes)\n"
     ]
    },
    {
     "data": {
      "text/plain": [
       "138710"
      ]
     },
     "execution_count": 74,
     "metadata": {},
     "output_type": "execute_result"
    },
    {
     "name": "stdout",
     "output_type": "stream",
     "text": [
      "Writing to img2\\20250423141131_e2678c95e8ed46091328ca558681822c_IMAG01_39.jpg(153,131 bytes)\n"
     ]
    },
    {
     "data": {
      "text/plain": [
       "153131"
      ]
     },
     "execution_count": 74,
     "metadata": {},
     "output_type": "execute_result"
    },
    {
     "name": "stdout",
     "output_type": "stream",
     "text": [
      "Writing to img2\\20250423141131_e2678c95e8ed46091328ca558681822c_IMAG01_40.jpg(148,533 bytes)\n"
     ]
    },
    {
     "data": {
      "text/plain": [
       "148533"
      ]
     },
     "execution_count": 74,
     "metadata": {},
     "output_type": "execute_result"
    },
    {
     "name": "stdout",
     "output_type": "stream",
     "text": [
      "Writing to img2\\20250423141131_e2678c95e8ed46091328ca558681822c_IMAG01_41.jpg(149,618 bytes)\n"
     ]
    },
    {
     "data": {
      "text/plain": [
       "149618"
      ]
     },
     "execution_count": 74,
     "metadata": {},
     "output_type": "execute_result"
    },
    {
     "name": "stdout",
     "output_type": "stream",
     "text": [
      "Writing to img2\\20250423141131_e2678c95e8ed46091328ca558681822c_IMAG01_42.jpg(259,517 bytes)\n"
     ]
    },
    {
     "data": {
      "text/plain": [
       "259517"
      ]
     },
     "execution_count": 74,
     "metadata": {},
     "output_type": "execute_result"
    },
    {
     "name": "stdout",
     "output_type": "stream",
     "text": [
      "Writing to img2\\20250423141131_e2678c95e8ed46091328ca558681822c_IMAG01_43.jpg(187,984 bytes)\n"
     ]
    },
    {
     "data": {
      "text/plain": [
       "187984"
      ]
     },
     "execution_count": 74,
     "metadata": {},
     "output_type": "execute_result"
    },
    {
     "name": "stdout",
     "output_type": "stream",
     "text": [
      "Writing to img2\\20250423141131_e2678c95e8ed46091328ca558681822c_IMAG01_44.jpg(144,928 bytes)\n"
     ]
    },
    {
     "data": {
      "text/plain": [
       "144928"
      ]
     },
     "execution_count": 74,
     "metadata": {},
     "output_type": "execute_result"
    },
    {
     "name": "stdout",
     "output_type": "stream",
     "text": [
      "Writing to img2\\20250423141131_e2678c95e8ed46091328ca558681822c_IMAG01_45.jpg(130,663 bytes)\n"
     ]
    },
    {
     "data": {
      "text/plain": [
       "130663"
      ]
     },
     "execution_count": 74,
     "metadata": {},
     "output_type": "execute_result"
    },
    {
     "name": "stdout",
     "output_type": "stream",
     "text": [
      "Writing to img2\\20250423141131_e2678c95e8ed46091328ca558681822c_IMAG01_46.jpg(128,519 bytes)\n"
     ]
    },
    {
     "data": {
      "text/plain": [
       "128519"
      ]
     },
     "execution_count": 74,
     "metadata": {},
     "output_type": "execute_result"
    },
    {
     "name": "stdout",
     "output_type": "stream",
     "text": [
      "Writing to img2\\20250423141131_e2678c95e8ed46091328ca558681822c_IMAG01_47.jpg(113,683 bytes)\n"
     ]
    },
    {
     "data": {
      "text/plain": [
       "113683"
      ]
     },
     "execution_count": 74,
     "metadata": {},
     "output_type": "execute_result"
    },
    {
     "name": "stdout",
     "output_type": "stream",
     "text": [
      "Writing to img2\\20250423141131_e2678c95e8ed46091328ca558681822c_IMAG01_48.jpg(289,162 bytes)\n"
     ]
    },
    {
     "data": {
      "text/plain": [
       "289162"
      ]
     },
     "execution_count": 74,
     "metadata": {},
     "output_type": "execute_result"
    },
    {
     "name": "stdout",
     "output_type": "stream",
     "text": [
      "Writing to img2\\20250423141131_e2678c95e8ed46091328ca558681822c_IMAG01_49.jpg(142,574 bytes)\n"
     ]
    },
    {
     "data": {
      "text/plain": [
       "142574"
      ]
     },
     "execution_count": 74,
     "metadata": {},
     "output_type": "execute_result"
    },
    {
     "name": "stdout",
     "output_type": "stream",
     "text": [
      "Writing to img2\\20250423141131_e2678c95e8ed46091328ca558681822c_IMAG01_50.jpg(179,888 bytes)\n"
     ]
    },
    {
     "data": {
      "text/plain": [
       "179888"
      ]
     },
     "execution_count": 74,
     "metadata": {},
     "output_type": "execute_result"
    },
    {
     "name": "stdout",
     "output_type": "stream",
     "text": [
      "Writing to img2\\20250423141131_e2678c95e8ed46091328ca558681822c_IMAG01_51.jpg(138,596 bytes)\n"
     ]
    },
    {
     "data": {
      "text/plain": [
       "138596"
      ]
     },
     "execution_count": 74,
     "metadata": {},
     "output_type": "execute_result"
    },
    {
     "name": "stdout",
     "output_type": "stream",
     "text": [
      "Writing to img2\\20250423141131_e2678c95e8ed46091328ca558681822c_IMAG01_52.jpg(148,791 bytes)\n"
     ]
    },
    {
     "data": {
      "text/plain": [
       "148791"
      ]
     },
     "execution_count": 74,
     "metadata": {},
     "output_type": "execute_result"
    },
    {
     "name": "stdout",
     "output_type": "stream",
     "text": [
      "Writing to img2\\20250423141131_e2678c95e8ed46091328ca558681822c_IMAG01_53.jpg(181,680 bytes)\n"
     ]
    },
    {
     "data": {
      "text/plain": [
       "181680"
      ]
     },
     "execution_count": 74,
     "metadata": {},
     "output_type": "execute_result"
    },
    {
     "name": "stdout",
     "output_type": "stream",
     "text": [
      "Writing to img2\\20250423141131_e2678c95e8ed46091328ca558681822c_IMAG01_54.jpg(191,547 bytes)\n"
     ]
    },
    {
     "data": {
      "text/plain": [
       "191547"
      ]
     },
     "execution_count": 74,
     "metadata": {},
     "output_type": "execute_result"
    },
    {
     "name": "stdout",
     "output_type": "stream",
     "text": [
      "Writing to img2\\20250423141131_e2678c95e8ed46091328ca558681822c_IMAG01_55.jpg(190,367 bytes)\n"
     ]
    },
    {
     "data": {
      "text/plain": [
       "190367"
      ]
     },
     "execution_count": 74,
     "metadata": {},
     "output_type": "execute_result"
    },
    {
     "name": "stdout",
     "output_type": "stream",
     "text": [
      "Writing to img2\\20250423141131_e2678c95e8ed46091328ca558681822c_IMAG01_56.jpg(221,129 bytes)\n"
     ]
    },
    {
     "data": {
      "text/plain": [
       "221129"
      ]
     },
     "execution_count": 74,
     "metadata": {},
     "output_type": "execute_result"
    },
    {
     "name": "stdout",
     "output_type": "stream",
     "text": [
      "Writing to img2\\20250423141131_e2678c95e8ed46091328ca558681822c_IMAG01_57.jpg(162,919 bytes)\n"
     ]
    },
    {
     "data": {
      "text/plain": [
       "162919"
      ]
     },
     "execution_count": 74,
     "metadata": {},
     "output_type": "execute_result"
    },
    {
     "name": "stdout",
     "output_type": "stream",
     "text": [
      "Writing to img2\\20250423141131_e2678c95e8ed46091328ca558681822c_IMAG01_58.jpg(185,817 bytes)\n"
     ]
    },
    {
     "data": {
      "text/plain": [
       "185817"
      ]
     },
     "execution_count": 74,
     "metadata": {},
     "output_type": "execute_result"
    },
    {
     "name": "stdout",
     "output_type": "stream",
     "text": [
      "Writing to img2\\20250423141131_e2678c95e8ed46091328ca558681822c_IMAG01_59.jpg(155,476 bytes)\n"
     ]
    },
    {
     "data": {
      "text/plain": [
       "155476"
      ]
     },
     "execution_count": 74,
     "metadata": {},
     "output_type": "execute_result"
    },
    {
     "name": "stdout",
     "output_type": "stream",
     "text": [
      "Writing to img2\\20250423141131_e2678c95e8ed46091328ca558681822c_IMAG01_60.jpg(152,328 bytes)\n"
     ]
    },
    {
     "data": {
      "text/plain": [
       "152328"
      ]
     },
     "execution_count": 74,
     "metadata": {},
     "output_type": "execute_result"
    },
    {
     "name": "stdout",
     "output_type": "stream",
     "text": [
      "Writing to img2\\20250423141131_e2678c95e8ed46091328ca558681822c_IMAG01_61.jpg(166,953 bytes)\n"
     ]
    },
    {
     "data": {
      "text/plain": [
       "166953"
      ]
     },
     "execution_count": 74,
     "metadata": {},
     "output_type": "execute_result"
    },
    {
     "name": "stdout",
     "output_type": "stream",
     "text": [
      "Writing to img2\\20250423141131_e2678c95e8ed46091328ca558681822c_IMAG01_62.jpg(84,001 bytes)\n"
     ]
    },
    {
     "data": {
      "text/plain": [
       "84001"
      ]
     },
     "execution_count": 74,
     "metadata": {},
     "output_type": "execute_result"
    },
    {
     "name": "stdout",
     "output_type": "stream",
     "text": [
      "Writing to img2\\20250423141131_e2678c95e8ed46091328ca558681822c_IMAG01_63.jpg(135,417 bytes)\n"
     ]
    },
    {
     "data": {
      "text/plain": [
       "135417"
      ]
     },
     "execution_count": 74,
     "metadata": {},
     "output_type": "execute_result"
    },
    {
     "name": "stdout",
     "output_type": "stream",
     "text": [
      "Writing to img2\\20250423141131_e2678c95e8ed46091328ca558681822c_IMAG01_64.jpg(233,114 bytes)\n"
     ]
    },
    {
     "data": {
      "text/plain": [
       "233114"
      ]
     },
     "execution_count": 74,
     "metadata": {},
     "output_type": "execute_result"
    },
    {
     "name": "stdout",
     "output_type": "stream",
     "text": [
      "Writing to img2\\20250423141131_e2678c95e8ed46091328ca558681822c_IMAG01_65.jpg(161,083 bytes)\n"
     ]
    },
    {
     "data": {
      "text/plain": [
       "161083"
      ]
     },
     "execution_count": 74,
     "metadata": {},
     "output_type": "execute_result"
    },
    {
     "name": "stdout",
     "output_type": "stream",
     "text": [
      "Writing to img2\\20250423141131_e2678c95e8ed46091328ca558681822c_IMAG01_66.jpg(158,603 bytes)\n"
     ]
    },
    {
     "data": {
      "text/plain": [
       "158603"
      ]
     },
     "execution_count": 74,
     "metadata": {},
     "output_type": "execute_result"
    },
    {
     "name": "stdout",
     "output_type": "stream",
     "text": [
      "Writing to img2\\20250423141131_e2678c95e8ed46091328ca558681822c_IMAG01_67.jpg(158,092 bytes)\n"
     ]
    },
    {
     "data": {
      "text/plain": [
       "158092"
      ]
     },
     "execution_count": 74,
     "metadata": {},
     "output_type": "execute_result"
    },
    {
     "name": "stdout",
     "output_type": "stream",
     "text": [
      "Writing to img2\\20250423141131_e2678c95e8ed46091328ca558681822c_IMAG01_68.jpg(170,826 bytes)\n"
     ]
    },
    {
     "data": {
      "text/plain": [
       "170826"
      ]
     },
     "execution_count": 74,
     "metadata": {},
     "output_type": "execute_result"
    },
    {
     "name": "stdout",
     "output_type": "stream",
     "text": [
      "Writing to img2\\20250423141131_e2678c95e8ed46091328ca558681822c_IMAG01_69.jpg(169,499 bytes)\n"
     ]
    },
    {
     "data": {
      "text/plain": [
       "169499"
      ]
     },
     "execution_count": 74,
     "metadata": {},
     "output_type": "execute_result"
    },
    {
     "name": "stdout",
     "output_type": "stream",
     "text": [
      "Writing to img2\\20250423141131_e2678c95e8ed46091328ca558681822c_IMAG01_70.jpg(185,470 bytes)\n"
     ]
    },
    {
     "data": {
      "text/plain": [
       "185470"
      ]
     },
     "execution_count": 74,
     "metadata": {},
     "output_type": "execute_result"
    },
    {
     "name": "stdout",
     "output_type": "stream",
     "text": [
      "Writing to img2\\20250423141131_e2678c95e8ed46091328ca558681822c_IMAG01_71.jpg(154,007 bytes)\n"
     ]
    },
    {
     "data": {
      "text/plain": [
       "154007"
      ]
     },
     "execution_count": 74,
     "metadata": {},
     "output_type": "execute_result"
    },
    {
     "name": "stdout",
     "output_type": "stream",
     "text": [
      "Writing to img2\\20250423141131_e2678c95e8ed46091328ca558681822c_IMAG01_72.jpg(182,919 bytes)\n"
     ]
    },
    {
     "data": {
      "text/plain": [
       "182919"
      ]
     },
     "execution_count": 74,
     "metadata": {},
     "output_type": "execute_result"
    },
    {
     "name": "stdout",
     "output_type": "stream",
     "text": [
      "Writing to img2\\20250423141131_e2678c95e8ed46091328ca558681822c_IMAG01_73.jpg(172,665 bytes)\n"
     ]
    },
    {
     "data": {
      "text/plain": [
       "172665"
      ]
     },
     "execution_count": 74,
     "metadata": {},
     "output_type": "execute_result"
    },
    {
     "name": "stdout",
     "output_type": "stream",
     "text": [
      "Writing to img2\\20250423141131_e2678c95e8ed46091328ca558681822c_IMAG01_74.jpg(189,002 bytes)\n"
     ]
    },
    {
     "data": {
      "text/plain": [
       "189002"
      ]
     },
     "execution_count": 74,
     "metadata": {},
     "output_type": "execute_result"
    },
    {
     "name": "stdout",
     "output_type": "stream",
     "text": [
      "Writing to img2\\20250423141131_e2678c95e8ed46091328ca558681822c_IMAG01_75.jpg(143,696 bytes)\n"
     ]
    },
    {
     "data": {
      "text/plain": [
       "143696"
      ]
     },
     "execution_count": 74,
     "metadata": {},
     "output_type": "execute_result"
    },
    {
     "name": "stdout",
     "output_type": "stream",
     "text": [
      "Writing to img2\\20250423141131_e2678c95e8ed46091328ca558681822c_IMAG01_76.jpg(148,818 bytes)\n"
     ]
    },
    {
     "data": {
      "text/plain": [
       "148818"
      ]
     },
     "execution_count": 74,
     "metadata": {},
     "output_type": "execute_result"
    },
    {
     "name": "stdout",
     "output_type": "stream",
     "text": [
      "Writing to img2\\20250423141131_e2678c95e8ed46091328ca558681822c_IMAG01_77.jpg(178,482 bytes)\n"
     ]
    },
    {
     "data": {
      "text/plain": [
       "178482"
      ]
     },
     "execution_count": 74,
     "metadata": {},
     "output_type": "execute_result"
    },
    {
     "name": "stdout",
     "output_type": "stream",
     "text": [
      "Writing to img2\\20250423141131_e2678c95e8ed46091328ca558681822c_IMAG01_78.jpg(157,933 bytes)\n"
     ]
    },
    {
     "data": {
      "text/plain": [
       "157933"
      ]
     },
     "execution_count": 74,
     "metadata": {},
     "output_type": "execute_result"
    },
    {
     "name": "stdout",
     "output_type": "stream",
     "text": [
      "Writing to img2\\20250423141131_e2678c95e8ed46091328ca558681822c_IMAG01_79.jpg(144,951 bytes)\n"
     ]
    },
    {
     "data": {
      "text/plain": [
       "144951"
      ]
     },
     "execution_count": 74,
     "metadata": {},
     "output_type": "execute_result"
    },
    {
     "name": "stdout",
     "output_type": "stream",
     "text": [
      "Writing to img2\\20250423141131_e2678c95e8ed46091328ca558681822c_IMAG01_80.jpg(232,551 bytes)\n"
     ]
    },
    {
     "data": {
      "text/plain": [
       "232551"
      ]
     },
     "execution_count": 74,
     "metadata": {},
     "output_type": "execute_result"
    },
    {
     "name": "stdout",
     "output_type": "stream",
     "text": [
      "Writing to img2\\20250423141131_e2678c95e8ed46091328ca558681822c_IMAG01_81.jpg(133,847 bytes)\n"
     ]
    },
    {
     "data": {
      "text/plain": [
       "133847"
      ]
     },
     "execution_count": 74,
     "metadata": {},
     "output_type": "execute_result"
    },
    {
     "name": "stdout",
     "output_type": "stream",
     "text": [
      "Writing to img2\\20250423141131_e2678c95e8ed46091328ca558681822c_IMAG01_82.jpg(164,578 bytes)\n"
     ]
    },
    {
     "data": {
      "text/plain": [
       "164578"
      ]
     },
     "execution_count": 74,
     "metadata": {},
     "output_type": "execute_result"
    },
    {
     "name": "stdout",
     "output_type": "stream",
     "text": [
      "Writing to img2\\20250423141131_e2678c95e8ed46091328ca558681822c_IMAG01_83.jpg(186,836 bytes)\n"
     ]
    },
    {
     "data": {
      "text/plain": [
       "186836"
      ]
     },
     "execution_count": 74,
     "metadata": {},
     "output_type": "execute_result"
    },
    {
     "name": "stdout",
     "output_type": "stream",
     "text": [
      "Writing to img2\\20250423141131_e2678c95e8ed46091328ca558681822c_IMAG01_84.jpg(172,294 bytes)\n"
     ]
    },
    {
     "data": {
      "text/plain": [
       "172294"
      ]
     },
     "execution_count": 74,
     "metadata": {},
     "output_type": "execute_result"
    },
    {
     "name": "stdout",
     "output_type": "stream",
     "text": [
      "Writing to img2\\20250423141131_e2678c95e8ed46091328ca558681822c_IMAG01_85.jpg(199,989 bytes)\n"
     ]
    },
    {
     "data": {
      "text/plain": [
       "199989"
      ]
     },
     "execution_count": 74,
     "metadata": {},
     "output_type": "execute_result"
    },
    {
     "name": "stdout",
     "output_type": "stream",
     "text": [
      "Writing to img2\\20250423141131_e2678c95e8ed46091328ca558681822c_IMAG01_86.jpg(145,008 bytes)\n"
     ]
    },
    {
     "data": {
      "text/plain": [
       "145008"
      ]
     },
     "execution_count": 74,
     "metadata": {},
     "output_type": "execute_result"
    },
    {
     "name": "stdout",
     "output_type": "stream",
     "text": [
      "Writing to img2\\20250423141131_e2678c95e8ed46091328ca558681822c_IMAG01_87.jpg(176,609 bytes)\n"
     ]
    },
    {
     "data": {
      "text/plain": [
       "176609"
      ]
     },
     "execution_count": 74,
     "metadata": {},
     "output_type": "execute_result"
    },
    {
     "name": "stdout",
     "output_type": "stream",
     "text": [
      "Writing to img2\\20250423141131_e2678c95e8ed46091328ca558681822c_IMAG01_88.jpg(226,832 bytes)\n"
     ]
    },
    {
     "data": {
      "text/plain": [
       "226832"
      ]
     },
     "execution_count": 74,
     "metadata": {},
     "output_type": "execute_result"
    },
    {
     "name": "stdout",
     "output_type": "stream",
     "text": [
      "Writing to img2\\20250423141131_e2678c95e8ed46091328ca558681822c_IMAG01_89.jpg(278,704 bytes)\n"
     ]
    },
    {
     "data": {
      "text/plain": [
       "278704"
      ]
     },
     "execution_count": 74,
     "metadata": {},
     "output_type": "execute_result"
    },
    {
     "name": "stdout",
     "output_type": "stream",
     "text": [
      "Writing to img2\\20250423141131_e2678c95e8ed46091328ca558681822c_IMAG01_90.jpg(175,568 bytes)\n"
     ]
    },
    {
     "data": {
      "text/plain": [
       "175568"
      ]
     },
     "execution_count": 74,
     "metadata": {},
     "output_type": "execute_result"
    },
    {
     "name": "stdout",
     "output_type": "stream",
     "text": [
      "Writing to img2\\20250423141131_e2678c95e8ed46091328ca558681822c_IMAG01_91.jpg(195,117 bytes)\n"
     ]
    },
    {
     "data": {
      "text/plain": [
       "195117"
      ]
     },
     "execution_count": 74,
     "metadata": {},
     "output_type": "execute_result"
    },
    {
     "name": "stdout",
     "output_type": "stream",
     "text": [
      "Writing to img2\\20250423141131_e2678c95e8ed46091328ca558681822c_IMAG01_92.jpg(66,541 bytes)\n"
     ]
    },
    {
     "data": {
      "text/plain": [
       "66541"
      ]
     },
     "execution_count": 74,
     "metadata": {},
     "output_type": "execute_result"
    }
   ],
   "source": [
    "import requests\n",
    "from bs4 import BeautifulSoup\n",
    "import os\n",
    "\n",
    "webtoon_url = 'https://comic.naver.com/webtoon/detail?titleId=800770&no=148&week=thu'\n",
    "req_header = {\n",
    "    'referer':webtoon_url,\n",
    "    \"user-agent\": \"Mozilla/5.0 (Windows NT 10.0; Win64; x64) AppleWebKit/537.36 (KHTML, like Gecko) Chrome/104.0.0.0 Safari/537.36\"\n",
    "}\n",
    "res = requests.get(webtoon_url)\n",
    "print(res.status_code)\n",
    "if res.ok:\n",
    "    soup = BeautifulSoup(res.text, 'html.parser')\n",
    "    print(len(soup.select(\"img[src$='.jpg']\")))\n",
    "    #https://image-comic.pstatic.net/webtoon\n",
    "    print(len(soup.select(\"img[src^='https://image-comic.pstatic.net/webtoon']\")))\n",
    "    print(len(soup.select(\"img[src*='IMAG01']\"))) # 일치함\n",
    "    # img src file명을 저장할 list 선언\n",
    "    img_url_list = list() #['http://xxx/aa.jpg']\n",
    "    img_tags = soup.select(\"img[src*='IMAG01']\") #img_tags의 타입은 Resultset [Tag,Tag,]\n",
    "    for img_tag in img_tags: #img_tag 의 타입은 Tag <img>\n",
    "        img_url = img_tag['src']\n",
    "        img_url_list.append(img_url)\n",
    "    #print(len(img_url_list), img_url_list[0:2])\n",
    "\n",
    "    # img 디렉토리가 없으면 생성하기\n",
    "    imgdir_name = 'img2'\n",
    "    if not os.path.isdir(imgdir_name):\n",
    "        os.mkdir(imgdir_name)\n",
    "\n",
    "    for jpg_url in img_url_list:\n",
    "        res = requests.get(jpg_url, headers=req_header)\n",
    "        if res.ok:\n",
    "            # binary data 추출하기\n",
    "            img_data = res.content\n",
    "            # img/xxx.jpg 디렉토리명과 jpg파일명을 join\n",
    "            dir_name = os.path.join(imgdir_name,os.path.basename(jpg_url))\n",
    "            with open(dir_name,'wb') as file:\n",
    "                print(f'Writing to {dir_name}({len(img_data):,} bytes)')\n",
    "                file.write(img_data)\n",
    "        else:\n",
    "           print(f'Error Code = {res.status_code}')    "
   ]
  }
 ],
 "metadata": {
  "kernelspec": {
   "display_name": "Python 3",
   "language": "python",
   "name": "python3"
  },
  "language_info": {
   "codemirror_mode": {
    "name": "ipython",
    "version": 3
   },
   "file_extension": ".py",
   "mimetype": "text/x-python",
   "name": "python",
   "nbconvert_exporter": "python",
   "pygments_lexer": "ipython3",
   "version": "3.12.7"
  }
 },
 "nbformat": 4,
 "nbformat_minor": 5
}

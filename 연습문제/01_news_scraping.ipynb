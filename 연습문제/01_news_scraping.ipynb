{
 "cells": [
  {
   "cell_type": "markdown",
   "id": "84450354",
   "metadata": {},
   "source": [
    "### 1-1. Daum 뉴스기사 제목 스크래핑하기\n"
   ]
  },
  {
   "cell_type": "code",
   "execution_count": 9,
   "id": "3c6082c5",
   "metadata": {},
   "outputs": [
    {
     "name": "stdout",
     "output_type": "stream",
     "text": [
      "https://news.daum.net/society\n",
      "200 True\n",
      "<class 'requests.models.Response'>\n",
      "<Response [200]>\n",
      "9\n",
      "<class 'bs4.element.ResultSet'>\n",
      "1 [단독] '의정갈등'에 '장거리 이송'도 급증‥비수도권 직격탄 https://v.daum.net/v/20250722203113026\n",
      "2 문에 ‘안전고리’ 다니…쪽방촌 여성 주민 방도 시원해졌다 https://v.daum.net/v/20250722203005994\n",
      "3 [단독] 전세금 760억 등친 '수원 왕회장'…감옥서도 지인 앞세워 '돈벌이' https://v.daum.net/v/20250722202940985\n",
      "4 [단독] 응급실 뺑뺑이 악화‥'2시간 초과' 2배 이상 늘어 https://v.daum.net/v/20250722202815955\n",
      "5 중3, 대도시·읍면 ‘학업 격차’ 더 벌어지고 협동력 더 떨어졌다 https://v.daum.net/v/20250722202527894\n",
      "6 박완수 경남지사 ‘경제수도 도약’·‘도민행복 시대 정착’ 이룬다 https://v.daum.net/v/20250722202517891\n",
      "7 극한호우 잦고 강한데‥지정에 5년 걸리는 '산사태 취약지역' https://v.daum.net/v/20250722202513888\n",
      "8 폭염 시작하자 그만둔 '실적왕' 택배기사... 다른 이유가 있었다 https://v.daum.net/v/20250722202408880\n",
      "9 산불 지역은 피해 없다?‥엉터리 보고에 주민 '분통' https://v.daum.net/v/20250722202213848\n"
     ]
    }
   ],
   "source": [
    "import requests\n",
    "from bs4 import BeautifulSoup\n",
    "\n",
    "# 사회 뉴스 \n",
    "req_param = {\n",
    "    'section': 'society'\n",
    "}\n",
    "url = 'https://news.daum.net/{section}'.format(**req_param)\n",
    "print(url)\n",
    "\n",
    "# 요청 헤더 설정 : 브라우저 정보\n",
    "req_header = {\n",
    "    \"user-agent\": \"Mozilla/5.0 (Windows NT 10.0; Win64; x64) AppleWebKit/537.36 (KHTML, like Gecko) Chrome/104.0.0.0 Safari/537.36\"\n",
    "}\n",
    "\n",
    "# requests 의 get() 함수 호출하기 \n",
    "res = requests.get(url, headers=req_header)\n",
    "res.encoding = 'utf-8'\n",
    "print(res.status_code, res.ok)\n",
    "print(type(res))\n",
    "print(res)\n",
    "\n",
    "# 응답(response)이 OK 이면\n",
    "# 응답 (response)에서 text 추출\n",
    "if res.ok:\n",
    "    html = res.text\n",
    "    # BeautifulSoup 객체 생성\n",
    "    soup = BeautifulSoup(html, \"html.parser\")   \n",
    "\n",
    "    # CSS 선택자\n",
    "    # print(soup.select(\"a.item_newsheadline2\"))\n",
    "    '''\n",
    "       <a class='item_newsheadline2' href='https://v.daum.net/v/...'>\n",
    "         <div class='cont_thumb'>\n",
    "           <strong class='tit_txt'>기사 제목</strong>\n",
    "    '''\n",
    "    a_tags = soup.select(\"a.item_newsheadline2\")\n",
    "    print(len(a_tags))\n",
    "    print(type(a_tags)) #[Tag,Tag,Tag]\n",
    "\n",
    "    # <a> 태그 리스트 순회하기\n",
    "    for idx, a_tag in enumerate(a_tags, 1):        \n",
    "        link = a_tag['href']\n",
    "        strong_tag = a_tag.select_one('strong.tit_txt')\n",
    "        title = strong_tag.text.strip() if strong_tag else '제목 없음'\n",
    "        print(f'{idx} {title} {link}')\n",
    "else:\n",
    "    print(f'Error Code={res.status_code}')\n",
    "\n",
    "# <a> 태그 리스트 순회하기    \n",
    "\n",
    "# 응답(response)이 Error 이면 status code 출력"
   ]
  },
  {
   "cell_type": "markdown",
   "id": "bdafa013",
   "metadata": {},
   "source": [
    "### 1-2. 여러개의 section 중 하나를 선택해서 url에서 뉴스기사의 링크와 제목을 출력하는 코드(함수)\n",
    "\n"
   ]
  },
  {
   "cell_type": "code",
   "execution_count": 16,
   "id": "a986029b",
   "metadata": {},
   "outputs": [],
   "source": [
    "import requests\n",
    "from bs4 import BeautifulSoup\n",
    "\n",
    "section_dict = {'기후환경': 'climate', '사회': 'society', '경제': 'economy', '정치': 'politics',\n",
    "                 '국제': 'world', '문화': 'culture', '생활': 'life', 'IT/과학': 'tech', '인물': 'people'}\n",
    "\n",
    "def print_news(section):\n",
    "    sid = section_dict[section]\n",
    "    url = f'https://news.daum.net/{sid}'\n",
    "    print(f'{url} {section} 뉴스')\n",
    "\n",
    "    # 요청 헤더 설정 : 브라우저 정보\n",
    "    req_header = {\n",
    "        \"user-agent\": \"Mozilla/5.0 (Windows NT 10.0; Win64; x64) AppleWebKit/537.36 (KHTML, like Gecko) Chrome/104.0.0.0 Safari/537.36\"\n",
    "    }\n",
    "\n",
    "    # requests 의 get() 함수 호출하기 \n",
    "    res = requests.get(url, headers=req_header)\n",
    "    res.encoding = 'utf-8'\n",
    "    print(res.status_code, res.ok)\n",
    "\n",
    "    if res.ok:\n",
    "        html = res.text\n",
    "        soup = BeautifulSoup(html, \"html.parser\")\n",
    "\n",
    "        # 뉴스 리스트 추출\n",
    "        a_tags = soup.select(\"ul.list_newsheadline2 > li > a\")\n",
    "        print(len(a_tags))\n",
    "\n",
    "        for idx, a_tag in enumerate(a_tags, 1):\n",
    "            title_tag = a_tag.select_one(\"strong.tit_txt\")\n",
    "            title = title_tag.text.strip() if title_tag else \"제목 없음\"\n",
    "            link = a_tag['href']\n",
    "            print(f'{idx} {title} {link}')\n",
    "    else:\n",
    "        print(f'Error Code={res.status_code}')"
   ]
  },
  {
   "cell_type": "code",
   "execution_count": 18,
   "id": "8691a78f",
   "metadata": {},
   "outputs": [
    {
     "name": "stdout",
     "output_type": "stream",
     "text": [
      "https://news.daum.net/society 사회 뉴스\n",
      "200 True\n",
      "9\n",
      "1 김계환 前해병사령관 구속영장 기각…\"도망·증거인멸 우려 없어\"(종합) https://v.daum.net/v/20250722211442045\n",
      "2 760억 등친 '수원 왕회장' 숨은 재산 추적…감옥서도 돈벌이, 피해자 두 번 울린 전세사기단 https://v.daum.net/v/20250722210541832\n",
      "3 “×× 시청인데요, 물품 대리납품 좀…” 전국 공무원 사칭 사기 주의!! https://v.daum.net/v/20250722210344774\n",
      "4 의대생 복귀 방안 협의 막바지…반대 국민청원은 5만 돌파 https://v.daum.net/v/20250722205947653\n",
      "5 [밀착카메라] 장마엔 젖어서, 폭염엔 더워서…안전 위험한 '폐지 어르신' https://v.daum.net/v/20250722205117470\n",
      "6 [호국의 성지 남해 관음포]삼별초는 왜 남해로 향했나 https://v.daum.net/v/20250722204626341\n",
      "7 “800억 어디서 구하나” 부산오페라하우스 발등의 불 https://v.daum.net/v/20250722204505326\n",
      "8 [고립·은둔 청년 방문을 열다] '일상'이 낯설던 청년들, 다시 일상을 배우다 https://v.daum.net/v/20250722203829159\n",
      "9 [단독] 110억 혈세에 자산 31배 급증… 대구치맥축제 주최단체 도마위 https://v.daum.net/v/20250722203442092\n"
     ]
    }
   ],
   "source": [
    "print_news('사회')"
   ]
  },
  {
   "cell_type": "code",
   "execution_count": null,
   "id": "0b80e211",
   "metadata": {},
   "outputs": [],
   "source": []
  }
 ],
 "metadata": {
  "kernelspec": {
   "display_name": "base",
   "language": "python",
   "name": "python3"
  },
  "language_info": {
   "codemirror_mode": {
    "name": "ipython",
    "version": 3
   },
   "file_extension": ".py",
   "mimetype": "text/x-python",
   "name": "python",
   "nbconvert_exporter": "python",
   "pygments_lexer": "ipython3",
   "version": "3.12.7"
  }
 },
 "nbformat": 4,
 "nbformat_minor": 5
}
